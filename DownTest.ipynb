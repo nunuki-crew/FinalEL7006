{
 "cells": [
  {
   "cell_type": "code",
   "execution_count": 1,
   "metadata": {},
   "outputs": [],
   "source": [
    "import os\n",
    "import mne\n",
    "import glob\n",
    "#\n",
    "import numpy as np\n",
    "import math\n",
    "import matplotlib.pyplot as plt\n",
    "%matplotlib inline\n",
    "\n",
    "import copy\n",
    "import pandas as pd\n",
    "# import torch "
   ]
  },
  {
   "cell_type": "code",
   "execution_count": 2,
   "metadata": {},
   "outputs": [],
   "source": [
    "DownPath = \"C:\\\\Users\\\\TheSy\\\\Desktop\\\\dataverse_files\""
   ]
  },
  {
   "cell_type": "code",
   "execution_count": 15,
   "metadata": {},
   "outputs": [],
   "source": [
    "SANE =[ \"h01.edf\",\n",
    "        \"h02.edf\",\n",
    "        \"h03.edf\",\n",
    "        \"h04.edf\",\n",
    "        \"h05.edf\",\n",
    "        \"h06.edf\",\n",
    "        \"h07.edf\",\n",
    "        \"h08.edf\",\n",
    "        \"h09.edf\",\n",
    "        \"h10.edf\",\n",
    "        \"h11.edf\",\n",
    "        \"h12.edf\",\n",
    "        \"h13.edf\",\n",
    "        \"h14.edf\",\n",
    "        ]\n",
    "\n",
    "ABNORMAL = [\"s01.edf\",\n",
    "            \"s02.edf\",\n",
    "            \"s03.edf\",\n",
    "            \"s04.edf\",\n",
    "            \"s05.edf\",\n",
    "            \"s06.edf\",\n",
    "            \"s07.edf\",\n",
    "            \"s08.edf\",\n",
    "            \"s09.edf\",\n",
    "            \"s10.edf\",\n",
    "            \"s11.edf\",\n",
    "            \"s12.edf\",\n",
    "            \"s13.edf\",\n",
    "            \"s14.edf\",\n",
    "]"
   ]
  },
  {
   "cell_type": "code",
   "execution_count": 4,
   "metadata": {},
   "outputs": [],
   "source": [
    "files = glob.glob( DownPath + \"/*.edf\" )"
   ]
  },
  {
   "cell_type": "code",
   "execution_count": 17,
   "metadata": {},
   "outputs": [],
   "source": [
    "for file in files:\n",
    "    # print(file)\n",
    "    name = file[-7:]\n",
    "    if name in SANE:\n",
    "        label = 0\n",
    "    if name in ABNORMAL:\n",
    "        label = 1"
   ]
  },
  {
   "cell_type": "code",
   "execution_count": null,
   "metadata": {},
   "outputs": [],
   "source": [
    "# pat1 = mne.io.read_raw_edf(files[0],preload=True)\n",
    "# pat2 = mne.io.read_raw_edf(files[14],preload=True)"
   ]
  }
 ],
 "metadata": {
  "kernelspec": {
   "display_name": "Python 3",
   "language": "python",
   "name": "python3"
  },
  "language_info": {
   "codemirror_mode": {
    "name": "ipython",
    "version": 3
   },
   "file_extension": ".py",
   "mimetype": "text/x-python",
   "name": "python",
   "nbconvert_exporter": "python",
   "pygments_lexer": "ipython3",
   "version": "3.10.11"
  }
 },
 "nbformat": 4,
 "nbformat_minor": 2
}
