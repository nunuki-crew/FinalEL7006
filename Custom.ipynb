{
 "cells": [
  {
   "cell_type": "code",
   "execution_count": 17,
   "metadata": {},
   "outputs": [],
   "source": [
    "import os\n",
    "import glob\n",
    "#\n",
    "import numpy as np\n",
    "import pandas as pd\n",
    "\n",
    "import torch\n",
    "from torch.utils.data import Dataset, DataLoader\n",
    "from torchvision import transforms, utils\n",
    "import random"
   ]
  },
  {
   "cell_type": "code",
   "execution_count": 18,
   "metadata": {},
   "outputs": [],
   "source": [
    "class CustomEEGDataset(Dataset):\n",
    "    def __init__(self, loc_df , root_dir , transform = None, multi = False):\n",
    "        # self.loc_df = pd.read_csv(csv_file)\n",
    "        self.loc_df = loc_df\n",
    "        self.transform = transform\n",
    "        self.root_dir = root_dir\n",
    "        self.multi = multi\n",
    "    def __len__(self,):\n",
    "        return len(self.loc_df)\n",
    "        \n",
    "    def __getitem__(self, idx):\n",
    "        if torch.is_tensor(idx):\n",
    "            idx = idx.tolist()\n",
    "\n",
    "        batch = []   \n",
    "        for i in idx:\n",
    "            eeg_file = os.path.join(self.root_dir,\n",
    "                                self.loc_df.iloc[i, 3])\n",
    "            eeg = torch.from_numpy(torch.load(eeg_file)) # [0][0]\n",
    "\n",
    "            if self.multi:\n",
    "                eeg= eeg.unsqueeze(0)\n",
    "            batch.append(eeg) \n",
    "        bat = torch.vstack(batch)\n",
    "            \n",
    "        if self.transform is not None:\n",
    "            bat = self.transform(bat)\n",
    "\n",
    "        return bat\n",
    "\n"
   ]
  },
  {
   "cell_type": "code",
   "execution_count": 5,
   "metadata": {},
   "outputs": [],
   "source": [
    "class DFSpliter():\n",
    "    def __init__(self, train_size= 0.8, val_size = 0.1, test_size = 0.1,) -> None:\n",
    "        self.train_size = train_size\n",
    "        self.val_size = val_size\n",
    "        self.test_size = test_size\n",
    "\n",
    "    def forward(self, csv_file):\n",
    "        pass\n",
    "\n"
   ]
  },
  {
   "cell_type": "code",
   "execution_count": null,
   "metadata": {},
   "outputs": [],
   "source": [
    "#Augmentation set\n",
    "'''\n",
    "Listas:\n",
    "-Negation\n",
    "-Time-Shift\n",
    "-Gaussian-Noise\n",
    "-Masking\n",
    "-DC voltage\n",
    "-Amplitude\n",
    "Por implementar:\n",
    "-Temporal Invertion\n",
    "-Permutation\n",
    "-Time-wraping\n",
    "\n",
    "'''\n"
   ]
  },
  {
   "cell_type": "code",
   "execution_count": 89,
   "metadata": {},
   "outputs": [],
   "source": [
    "def Masking(channel: np.array, window: int= 150):\n",
    "    '''\n",
    "    Set to zero \n",
    "    Input:  -channel = Numpy array\n",
    "            -window = Number of samples to set to zero\n",
    "    Output: Numpy array masked\n",
    "    '''\n",
    "    channel_size = len(channel)\n",
    "    first = np.random.randint(0,channel_size- window)\n",
    "    channel[first:first+window] = 0\n",
    "\n",
    "    return channel\n",
    "\n",
    "def DCVoltage(channel : np.array, max_magnitude: float = 0.5):\n",
    "    ''' \n",
    "    Add a DC component between [-max_mangitude, max_magnitude]\n",
    "    Input:  -channel = Numpy array\n",
    "            -max_magnitude = max value to be added\n",
    "    Output: Numpy array \n",
    "    '''\n",
    "    dc_comp = (np.random.random(1)*2 - 1)*max_magnitude\n",
    "    dispaced_channel = channel + dc_comp\n",
    "    return dispaced_channel    \n",
    "\n",
    "def GaussianNoise(channel: np.array, std: float = 0.2):\n",
    "    '''\n",
    "    Add Gaussian Noise with zero mean and std deviation\n",
    "    Input:  -channel = Numpy array\n",
    "            -std = Gaussian std\n",
    "    Output: Channel with additive gaussian noise added\n",
    "    '''\n",
    "    channel_size = len(channel)\n",
    "    noise = np.random.normal(loc = 0, scale= std, size= channel_size)\n",
    "    noisy_channel = channel + noise\n",
    "    return noisy_channel\n",
    "\n",
    "def Time_Shift(channel: np.array, min_shift: int = 0, max_shift: int = 50):\n",
    "    ''' \n",
    "    Shifts the channel n samples between min_shift and max_shift using reflection pad\n",
    "    Input:  -channel = Numpy array\n",
    "            -min_shift = Min number of samples to shift\n",
    "            -max_shhift = Max number of samples to shift  \n",
    "    Output: Shifted channel\n",
    "    '''\n",
    "    n_shift = np.random.randint(min_shift,max_shift)\n",
    "    channel_size = len(channel)\n",
    "    padded_array = np.pad(channel,pad_width= n_shift, mode = \"reflect\")\n",
    "    right_left = np.random.choice((0,2))\n",
    "    shifted_array = padded_array[n_shift*right_left:channel_size + n_shift*right_left]\n",
    "    return shifted_array\n",
    "def Amplitude(channel :np.array, max_amplitude: float = 1.5):\n",
    "    '''\n",
    "    Modifies the ampliude of the channel values between [1+max_amplitude,1-max_amplitude]\n",
    "    Input:  -channel = Numpy array\n",
    "            -max_amplitude = Max aplitude to add\n",
    "    Output: Boosted channel\n",
    "    '''\n",
    "    amplitude = 1 + ((np.random.random(1)*2 -1) * max_amplitude)\n",
    "    boosted_channel = channel*amplitude\n",
    "    return boosted_channel\n",
    "\n",
    "def Permutation(channel: np.array, win_samples: int = 4):\n",
    "    '''\n",
    "    Permutates the arrays by secuences of win_samples len\n",
    "    Ensure its divisible by the total len of the array or the len of the output secuence will be wrong\n",
    "    Input:  -channel = Numpu array\n",
    "            -win_samples = Number of samples per secuences (N_sec = len(channel)// win_samples)\n",
    "    Output: Permutated secuence\n",
    "    '''\n",
    "\n",
    "    n_seqs = len(channel)// win_samples\n",
    "    random_idx = np.random.choice(np.arange(0,n_seqs, 1), n_seqs, replace=False ) \n",
    "    permutated = np.concatenate([channel[win_samples*i: win_samples*(i+1)] for i in random_idx])\n",
    "    return permutated\n",
    "def Temporal_Invertion(channel: np.array):\n",
    "    ''' \n",
    "    Return the array reversed\n",
    "    Input:  -channel = Numpy array\n",
    "    Output: Reversed array\n",
    "    '''\n",
    "    reversed = channel[::-1]\n",
    "    return reversed\n",
    "\n",
    "def Negation(channel: np.array):\n",
    "    '''\n",
    "    Inverts the full array\n",
    "    Input: -channel = Numpy array\n",
    "    Output: Inverted array\n",
    "    '''\n",
    "    negated = channel * (-1)\n",
    "    return negated\n"
   ]
  },
  {
   "cell_type": "code",
   "execution_count": 1,
   "metadata": {},
   "outputs": [],
   "source": [
    "class Augmentations():\n",
    "    def __init__(self, n_aug, multi = False, transform = None) -> None:\n",
    "        self.n_aug = n_aug\n",
    "        self.multi = multi\n",
    "        self.transform = transform\n",
    "    def forward(self,batch):\n",
    "        xbar_batch = []\n",
    "        xhat_batch = []\n",
    "\n",
    "        rbar_idxs = np.random.choice(np.arange(0,len(self.transform),1),size=self.n_aug, replace= False)\n",
    "        rhat_idxs = np.random.choice(np.arange(0,len(self.transform),1),size=self.n_aug, replace= False)\n",
    "\n",
    "        for channel in batch:\n",
    "            pass\n",
    "\n",
    "        "
   ]
  },
  {
   "cell_type": "code",
   "execution_count": 55,
   "metadata": {},
   "outputs": [],
   "source": [
    "aug = [Time_Shift,Amplitude,Permutation,Negation,Masking]"
   ]
  },
  {
   "cell_type": "code",
   "execution_count": null,
   "metadata": {},
   "outputs": [],
   "source": []
  },
  {
   "cell_type": "code",
   "execution_count": 1,
   "metadata": {},
   "outputs": [],
   "source": [
    "from torch import nn"
   ]
  },
  {
   "cell_type": "code",
   "execution_count": 16,
   "metadata": {},
   "outputs": [
    {
     "ename": "NameError",
     "evalue": "name 'pd' is not defined",
     "output_type": "error",
     "traceback": [
      "\u001b[1;31m---------------------------------------------------------------------------\u001b[0m",
      "\u001b[1;31mNameError\u001b[0m                                 Traceback (most recent call last)",
      "\u001b[1;32mc:\\Users\\TheSy\\Desktop\\FinalEL7006\\Custom.ipynb Cell 8\u001b[0m line \u001b[0;36m1\n\u001b[1;32m----> <a href='vscode-notebook-cell:/c%3A/Users/TheSy/Desktop/FinalEL7006/Custom.ipynb#W5sZmlsZQ%3D%3D?line=0'>1</a>\u001b[0m loc_df \u001b[39m=\u001b[39m pd\u001b[39m.\u001b[39mDataFrame(columns\u001b[39m=\u001b[39m [\u001b[39m\"\u001b[39m\u001b[39mPatient\u001b[39m\u001b[39m\"\u001b[39m, \u001b[39m\"\u001b[39m\u001b[39mSession\u001b[39m\u001b[39m\"\u001b[39m,\u001b[39m\"\u001b[39m\u001b[39mN_Win\u001b[39m\u001b[39m\"\u001b[39m, \u001b[39m\"\u001b[39m\u001b[39mDir\u001b[39m\u001b[39m\"\u001b[39m], )\n",
      "\u001b[1;31mNameError\u001b[0m: name 'pd' is not defined"
     ]
    }
   ],
   "source": [
    "loc_df = pd.DataFrame(columns= [\"Patient\", \"Session\",\"N_Win\", \"Dir\"], )"
   ]
  },
  {
   "cell_type": "code",
   "execution_count": 8,
   "metadata": {},
   "outputs": [],
   "source": [
    "root_path = \"C:\\\\Users\\\\TheSy\\\\Desktop\\\\FinalEL7006\""
   ]
  },
  {
   "cell_type": "code",
   "execution_count": 12,
   "metadata": {},
   "outputs": [],
   "source": [
    "loc_df.loc[len(loc_df)] = [\"aaax\",\"session_id\",1,\"LSTMData-0.001.pt\"]\n"
   ]
  },
  {
   "cell_type": "code",
   "execution_count": 13,
   "metadata": {},
   "outputs": [],
   "source": [
    "dataset = CustomEEGDataset(loc_df,root_path, multi=False)"
   ]
  },
  {
   "cell_type": "code",
   "execution_count": 105,
   "metadata": {},
   "outputs": [],
   "source": [
    "test = dataset.__getitem__([1])[0][0].numpy()\n"
   ]
  }
 ],
 "metadata": {
  "kernelspec": {
   "display_name": "Python 3",
   "language": "python",
   "name": "python3"
  },
  "language_info": {
   "codemirror_mode": {
    "name": "ipython",
    "version": 3
   },
   "file_extension": ".py",
   "mimetype": "text/x-python",
   "name": "python",
   "nbconvert_exporter": "python",
   "pygments_lexer": "ipython3",
   "version": "3.10.11"
  },
  "orig_nbformat": 4
 },
 "nbformat": 4,
 "nbformat_minor": 2
}
