{
 "cells": [
  {
   "cell_type": "code",
   "execution_count": 2,
   "metadata": {},
   "outputs": [],
   "source": [
    "import os\n",
    "import numpy as np\n",
    "import pandas as pd\n",
    "#\n",
    "import torch\n",
    "from torch import nn\n",
    "import torch.nn.functional as F\n",
    "from torch.utils.data import Dataset, DataLoader\n",
    "import matplotlib.pyplot as plt\n",
    "#\n",
    "import time\n"
   ]
  },
  {
   "cell_type": "code",
   "execution_count": 2,
   "metadata": {},
   "outputs": [],
   "source": [
    "test = torch.rand(size = (1900,1000))"
   ]
  },
  {
   "cell_type": "code",
   "execution_count": 3,
   "metadata": {},
   "outputs": [
    {
     "data": {
      "text/plain": [
       "torch.Size([1900, 1000])"
      ]
     },
     "execution_count": 3,
     "metadata": {},
     "output_type": "execute_result"
    }
   ],
   "source": [
    "test.shape"
   ]
  },
  {
   "cell_type": "code",
   "execution_count": 4,
   "metadata": {},
   "outputs": [],
   "source": [
    "def Masking(channel: torch.Tensor, window: int= 250):\n",
    "    '''\n",
    "    Set to zero \n",
    "    Input: \\\\\n",
    "    -channel = Tensor \\\\\n",
    "    -window = Number of samples to set to zero\n",
    "    Output: Numpy array masked\n",
    "    '''\n",
    "    # st = time.time()\n",
    "    # New\n",
    "    size = channel.size()\n",
    "    mask = torch.ones(size)\n",
    "    for i in range(size[0]):\n",
    "        # real_window = torch.randint(0,window,(1,1)).item()\n",
    "        start = torch.randint(0, size[1] - window + 1, (1,))\n",
    "        mask[i, start:(start + window)] = 0\n",
    "    masked = channel * mask\n",
    "    # et = time.time()\n",
    "    # print(f\"total time = {et - st} s\")\n",
    "    return masked\n"
   ]
  },
  {
   "cell_type": "code",
   "execution_count": 20,
   "metadata": {},
   "outputs": [
    {
     "data": {
      "text/plain": [
       "63"
      ]
     },
     "execution_count": 20,
     "metadata": {},
     "output_type": "execute_result"
    }
   ],
   "source": [
    "torch.randint(0,250,(1,1)).item()"
   ]
  },
  {
   "cell_type": "code",
   "execution_count": 5,
   "metadata": {},
   "outputs": [
    {
     "name": "stdout",
     "output_type": "stream",
     "text": [
      "total time = 0.045877695083618164 s\n"
     ]
    }
   ],
   "source": [
    "a = Masking(test)"
   ]
  },
  {
   "cell_type": "code",
   "execution_count": 6,
   "metadata": {},
   "outputs": [],
   "source": [
    "def DCVoltage(channel : torch.Tensor, max_magnitude: float = 0.5):\n",
    "    ''' \n",
    "    Add a DC component between [-max_mangitude, max_magnitude]\\\\\n",
    "    Input:  \\\\\n",
    "    -channel = Tensor \\\\\n",
    "    -max_magnitude = max value to be added\n",
    "    Output: Numpy array \n",
    "    '''\n",
    "    # st = time.time()\n",
    "    size = channel.size()\n",
    "    dc_comp = (torch.rand(size[0])*2 - 1)*max_magnitude\n",
    "    dc_comp = dc_comp.view(-1, 1)\n",
    "    # print(dc_comp.size())\n",
    "    channel = torch.add(channel, dc_comp)\n",
    "    # et = time.time()\n",
    "    # print(f\"total time = {et - st} s\")\n",
    "    return channel    "
   ]
  },
  {
   "cell_type": "code",
   "execution_count": 7,
   "metadata": {},
   "outputs": [
    {
     "name": "stdout",
     "output_type": "stream",
     "text": [
      "total time = 0.0010623931884765625 s\n"
     ]
    }
   ],
   "source": [
    "a = DCVoltage(test)"
   ]
  },
  {
   "cell_type": "code",
   "execution_count": 8,
   "metadata": {},
   "outputs": [],
   "source": [
    "def GaussianNoise(channel: torch.Tensor, std: float = 10):\n",
    "    '''\n",
    "    Add Gaussian Noise with zero mean and std deviation\n",
    "    Input:  -channel = Numpy array\n",
    "            -std = Gaussian std\n",
    "    Output: Channel with additive gaussian noise added\n",
    "    '''\n",
    "#     st = time.time()\n",
    "    size = channel.size()\n",
    "    noise = torch.normal(mean = 0.0, std = std, size = size)\n",
    "    # noise = np.random.normal(loc = 0, scale= std, size= channel_size)\n",
    "    noisy_channel = torch.add(channel, noise)\n",
    "#     et = time.time()\n",
    "#     print(f\"total time = {et - st} s\")\n",
    "    return noisy_channel"
   ]
  },
  {
   "cell_type": "code",
   "execution_count": 9,
   "metadata": {},
   "outputs": [
    {
     "name": "stdout",
     "output_type": "stream",
     "text": [
      "total time = 0.014564037322998047 s\n"
     ]
    }
   ],
   "source": [
    "a = GaussianNoise(test)"
   ]
  },
  {
   "cell_type": "code",
   "execution_count": 10,
   "metadata": {},
   "outputs": [],
   "source": [
    "def Amplitude(channel: torch.Tensor, max_amp: float = 1.5):\n",
    "    # st = time.time()\n",
    "    size = channel.size()\n",
    "    factors = (torch.rand(size[0])*2 - 1)*max_amp\n",
    "    factors = factors.view(-1, 1)\n",
    "    channel = torch.mul(channel, factors)\n",
    "    # et = time.time()\n",
    "    # print(f\"total time = {et - st} s\")\n",
    "    return channel"
   ]
  },
  {
   "cell_type": "code",
   "execution_count": 11,
   "metadata": {},
   "outputs": [
    {
     "name": "stdout",
     "output_type": "stream",
     "text": [
      "total time = 0.001004934310913086 s\n"
     ]
    }
   ],
   "source": [
    "a = Amplitude(test)"
   ]
  },
  {
   "cell_type": "code",
   "execution_count": 34,
   "metadata": {},
   "outputs": [],
   "source": [
    "def Time_Shift(channel: torch.Tensor, min_shift: int = 0, max_shift: int = 50):\n",
    "    # st = time.time()\n",
    "    shift = int(torch.randint(low = min_shift, high = max_shift, size = (1, ))/2)\n",
    "    shift_ch = F.pad(channel.unsqueeze(2), (0, 0, shift, -shift), mode = \"reflect\").squeeze(2)\n",
    "\n",
    "    # et = time.time()\n",
    "    # print(f\"total time = {et - st} s\")\n",
    "    return shift_ch"
   ]
  },
  {
   "cell_type": "code",
   "execution_count": 38,
   "metadata": {},
   "outputs": [
    {
     "name": "stdout",
     "output_type": "stream",
     "text": [
      "total time = 0.00382232666015625 s\n"
     ]
    }
   ],
   "source": [
    "a = Time_Shift(test)"
   ]
  }
 ],
 "metadata": {
  "kernelspec": {
   "display_name": "Python 3",
   "language": "python",
   "name": "python3"
  },
  "language_info": {
   "codemirror_mode": {
    "name": "ipython",
    "version": 3
   },
   "file_extension": ".py",
   "mimetype": "text/x-python",
   "name": "python",
   "nbconvert_exporter": "python",
   "pygments_lexer": "ipython3",
   "version": "3.10.11"
  }
 },
 "nbformat": 4,
 "nbformat_minor": 2
}
