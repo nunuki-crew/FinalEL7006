{
 "cells": [
  {
   "cell_type": "code",
   "execution_count": 1,
   "metadata": {},
   "outputs": [],
   "source": [
    "import torch\n",
    "import numpy as np\n",
    "import matplotlib.pyplot as plt"
   ]
  },
  {
   "cell_type": "code",
   "execution_count": 2,
   "metadata": {},
   "outputs": [
    {
     "ename": "AttributeError",
     "evalue": "'list' object has no attribute 'seek'. You can only torch.load from a file that is seekable. Please pre-load the data into a buffer like io.BytesIO and try to load from it instead.",
     "output_type": "error",
     "traceback": [
      "\u001b[1;31m---------------------------------------------------------------------------\u001b[0m",
      "\u001b[1;31mAttributeError\u001b[0m                            Traceback (most recent call last)",
      "File \u001b[1;32mc:\\Users\\borja\\miniconda3\\envs\\neuron\\Lib\\site-packages\\torch\\serialization.py:354\u001b[0m, in \u001b[0;36m_check_seekable\u001b[1;34m(f)\u001b[0m\n\u001b[0;32m    353\u001b[0m \u001b[39mtry\u001b[39;00m:\n\u001b[1;32m--> 354\u001b[0m     f\u001b[39m.\u001b[39mseek(f\u001b[39m.\u001b[39mtell())\n\u001b[0;32m    355\u001b[0m     \u001b[39mreturn\u001b[39;00m \u001b[39mTrue\u001b[39;00m\n",
      "\u001b[1;31mAttributeError\u001b[0m: 'list' object has no attribute 'seek'",
      "\nDuring handling of the above exception, another exception occurred:\n",
      "\u001b[1;31mAttributeError\u001b[0m                            Traceback (most recent call last)",
      "\u001b[1;32md:\\GitHub\\FinalEL7006\\plotter.ipynb Cell 2\u001b[0m line \u001b[0;36m1\n\u001b[0;32m      <a href='vscode-notebook-cell:/d%3A/GitHub/FinalEL7006/plotter.ipynb#W0sZmlsZQ%3D%3D?line=7'>8</a>\u001b[0m states \u001b[39m=\u001b[39m []\n\u001b[0;32m      <a href='vscode-notebook-cell:/d%3A/GitHub/FinalEL7006/plotter.ipynb#W0sZmlsZQ%3D%3D?line=8'>9</a>\u001b[0m \u001b[39mfor\u001b[39;00m i \u001b[39min\u001b[39;00m \u001b[39mrange\u001b[39m(n_curves):\n\u001b[1;32m---> <a href='vscode-notebook-cell:/d%3A/GitHub/FinalEL7006/plotter.ipynb#W0sZmlsZQ%3D%3D?line=9'>10</a>\u001b[0m     states\u001b[39m.\u001b[39mappend(torch\u001b[39m.\u001b[39mload(state_dirs[i]))\n\u001b[0;32m     <a href='vscode-notebook-cell:/d%3A/GitHub/FinalEL7006/plotter.ipynb#W0sZmlsZQ%3D%3D?line=10'>11</a>\u001b[0m labels \u001b[39m=\u001b[39m[\u001b[39m\"\u001b[39m\u001b[39mClean\u001b[39m\u001b[39m\"\u001b[39m,\n\u001b[0;32m     <a href='vscode-notebook-cell:/d%3A/GitHub/FinalEL7006/plotter.ipynb#W0sZmlsZQ%3D%3D?line=11'>12</a>\u001b[0m             \u001b[39m\"\u001b[39m\u001b[39mFilter\u001b[39m\u001b[39m\"\u001b[39m,\n\u001b[0;32m     <a href='vscode-notebook-cell:/d%3A/GitHub/FinalEL7006/plotter.ipynb#W0sZmlsZQ%3D%3D?line=12'>13</a>\u001b[0m             \u001b[39m\"\u001b[39m\u001b[39mGaussian Noise\u001b[39m\u001b[39m\"\u001b[39m,\n\u001b[0;32m     <a href='vscode-notebook-cell:/d%3A/GitHub/FinalEL7006/plotter.ipynb#W0sZmlsZQ%3D%3D?line=13'>14</a>\u001b[0m             \u001b[39m\"\u001b[39m\u001b[39mWindow permutation\u001b[39m\u001b[39m\"\u001b[39m,\n\u001b[0;32m     <a href='vscode-notebook-cell:/d%3A/GitHub/FinalEL7006/plotter.ipynb#W0sZmlsZQ%3D%3D?line=14'>15</a>\u001b[0m             \u001b[39m\"\u001b[39m\u001b[39mRandom Silence\u001b[39m\u001b[39m\"\u001b[39m,\n\u001b[0;32m     <a href='vscode-notebook-cell:/d%3A/GitHub/FinalEL7006/plotter.ipynb#W0sZmlsZQ%3D%3D?line=15'>16</a>\u001b[0m         ],\n\u001b[0;32m     <a href='vscode-notebook-cell:/d%3A/GitHub/FinalEL7006/plotter.ipynb#W0sZmlsZQ%3D%3D?line=16'>17</a>\u001b[0m fig, (train_loss) \u001b[39m=\u001b[39m plt\u001b[39m.\u001b[39msubplots(ncols \u001b[39m=\u001b[39m \u001b[39m1\u001b[39m, figsize \u001b[39m=\u001b[39m (\u001b[39m8\u001b[39m,\u001b[39m3\u001b[39m), layout \u001b[39m=\u001b[39m \u001b[39m\"\u001b[39m\u001b[39mconstrained\u001b[39m\u001b[39m\"\u001b[39m)\n",
      "File \u001b[1;32mc:\\Users\\borja\\miniconda3\\envs\\neuron\\Lib\\site-packages\\torch\\serialization.py:791\u001b[0m, in \u001b[0;36mload\u001b[1;34m(f, map_location, pickle_module, weights_only, **pickle_load_args)\u001b[0m\n\u001b[0;32m    788\u001b[0m \u001b[39mif\u001b[39;00m \u001b[39m'\u001b[39m\u001b[39mencoding\u001b[39m\u001b[39m'\u001b[39m \u001b[39mnot\u001b[39;00m \u001b[39min\u001b[39;00m pickle_load_args\u001b[39m.\u001b[39mkeys():\n\u001b[0;32m    789\u001b[0m     pickle_load_args[\u001b[39m'\u001b[39m\u001b[39mencoding\u001b[39m\u001b[39m'\u001b[39m] \u001b[39m=\u001b[39m \u001b[39m'\u001b[39m\u001b[39mutf-8\u001b[39m\u001b[39m'\u001b[39m\n\u001b[1;32m--> 791\u001b[0m \u001b[39mwith\u001b[39;00m _open_file_like(f, \u001b[39m'\u001b[39m\u001b[39mrb\u001b[39m\u001b[39m'\u001b[39m) \u001b[39mas\u001b[39;00m opened_file:\n\u001b[0;32m    792\u001b[0m     \u001b[39mif\u001b[39;00m _is_zipfile(opened_file):\n\u001b[0;32m    793\u001b[0m         \u001b[39m# The zipfile reader is going to advance the current file position.\u001b[39;00m\n\u001b[0;32m    794\u001b[0m         \u001b[39m# If we want to actually tail call to torch.jit.load, we need to\u001b[39;00m\n\u001b[0;32m    795\u001b[0m         \u001b[39m# reset back to the original position.\u001b[39;00m\n\u001b[0;32m    796\u001b[0m         orig_position \u001b[39m=\u001b[39m opened_file\u001b[39m.\u001b[39mtell()\n",
      "File \u001b[1;32mc:\\Users\\borja\\miniconda3\\envs\\neuron\\Lib\\site-packages\\torch\\serialization.py:276\u001b[0m, in \u001b[0;36m_open_file_like\u001b[1;34m(name_or_buffer, mode)\u001b[0m\n\u001b[0;32m    274\u001b[0m     \u001b[39mreturn\u001b[39;00m _open_buffer_writer(name_or_buffer)\n\u001b[0;32m    275\u001b[0m \u001b[39melif\u001b[39;00m \u001b[39m'\u001b[39m\u001b[39mr\u001b[39m\u001b[39m'\u001b[39m \u001b[39min\u001b[39;00m mode:\n\u001b[1;32m--> 276\u001b[0m     \u001b[39mreturn\u001b[39;00m _open_buffer_reader(name_or_buffer)\n\u001b[0;32m    277\u001b[0m \u001b[39melse\u001b[39;00m:\n\u001b[0;32m    278\u001b[0m     \u001b[39mraise\u001b[39;00m \u001b[39mRuntimeError\u001b[39;00m(\u001b[39mf\u001b[39m\u001b[39m\"\u001b[39m\u001b[39mExpected \u001b[39m\u001b[39m'\u001b[39m\u001b[39mr\u001b[39m\u001b[39m'\u001b[39m\u001b[39m or \u001b[39m\u001b[39m'\u001b[39m\u001b[39mw\u001b[39m\u001b[39m'\u001b[39m\u001b[39m in mode but got \u001b[39m\u001b[39m{\u001b[39;00mmode\u001b[39m}\u001b[39;00m\u001b[39m\"\u001b[39m)\n",
      "File \u001b[1;32mc:\\Users\\borja\\miniconda3\\envs\\neuron\\Lib\\site-packages\\torch\\serialization.py:261\u001b[0m, in \u001b[0;36m_open_buffer_reader.__init__\u001b[1;34m(self, buffer)\u001b[0m\n\u001b[0;32m    259\u001b[0m \u001b[39mdef\u001b[39;00m \u001b[39m__init__\u001b[39m(\u001b[39mself\u001b[39m, buffer):\n\u001b[0;32m    260\u001b[0m     \u001b[39msuper\u001b[39m()\u001b[39m.\u001b[39m\u001b[39m__init__\u001b[39m(buffer)\n\u001b[1;32m--> 261\u001b[0m     _check_seekable(buffer)\n",
      "File \u001b[1;32mc:\\Users\\borja\\miniconda3\\envs\\neuron\\Lib\\site-packages\\torch\\serialization.py:357\u001b[0m, in \u001b[0;36m_check_seekable\u001b[1;34m(f)\u001b[0m\n\u001b[0;32m    355\u001b[0m     \u001b[39mreturn\u001b[39;00m \u001b[39mTrue\u001b[39;00m\n\u001b[0;32m    356\u001b[0m \u001b[39mexcept\u001b[39;00m (io\u001b[39m.\u001b[39mUnsupportedOperation, \u001b[39mAttributeError\u001b[39;00m) \u001b[39mas\u001b[39;00m e:\n\u001b[1;32m--> 357\u001b[0m     raise_err_msg([\u001b[39m\"\u001b[39m\u001b[39mseek\u001b[39m\u001b[39m\"\u001b[39m, \u001b[39m\"\u001b[39m\u001b[39mtell\u001b[39m\u001b[39m\"\u001b[39m], e)\n\u001b[0;32m    358\u001b[0m \u001b[39mreturn\u001b[39;00m \u001b[39mFalse\u001b[39;00m\n",
      "File \u001b[1;32mc:\\Users\\borja\\miniconda3\\envs\\neuron\\Lib\\site-packages\\torch\\serialization.py:350\u001b[0m, in \u001b[0;36m_check_seekable.<locals>.raise_err_msg\u001b[1;34m(patterns, e)\u001b[0m\n\u001b[0;32m    346\u001b[0m     \u001b[39mif\u001b[39;00m p \u001b[39min\u001b[39;00m \u001b[39mstr\u001b[39m(e):\n\u001b[0;32m    347\u001b[0m         msg \u001b[39m=\u001b[39m (\u001b[39mstr\u001b[39m(e) \u001b[39m+\u001b[39m \u001b[39m\"\u001b[39m\u001b[39m. You can only torch.load from a file that is seekable.\u001b[39m\u001b[39m\"\u001b[39m\n\u001b[0;32m    348\u001b[0m                         \u001b[39m+\u001b[39m \u001b[39m\"\u001b[39m\u001b[39m Please pre-load the data into a buffer like io.BytesIO and\u001b[39m\u001b[39m\"\u001b[39m\n\u001b[0;32m    349\u001b[0m                         \u001b[39m+\u001b[39m \u001b[39m\"\u001b[39m\u001b[39m try to load from it instead.\u001b[39m\u001b[39m\"\u001b[39m)\n\u001b[1;32m--> 350\u001b[0m         \u001b[39mraise\u001b[39;00m \u001b[39mtype\u001b[39m(e)(msg)\n\u001b[0;32m    351\u001b[0m \u001b[39mraise\u001b[39;00m e\n",
      "\u001b[1;31mAttributeError\u001b[0m: 'list' object has no attribute 'seek'. You can only torch.load from a file that is seekable. Please pre-load the data into a buffer like io.BytesIO and try to load from it instead."
     ]
    }
   ],
   "source": [
    "state_dirs = [\"Lastencoder0.05tauINF_5.pt\",\n",
    "            #   \"train_params\\\\\\\\filter\\\\\\\\clean_200.pt\",\n",
    "            #   \"train_params\\\\\\\\gaussian\\\\\\\\gaussian_100.pt\",\n",
    "            #   \"train_params\\\\\\\\permute\\\\\\\\permute_100.pt\",\n",
    "            #   \"train_params\\\\\\\\silent\\\\\\\\silent_100.pt\",\n",
    "                ],\n",
    "n_curves = len(state_dirs)\n",
    "states = []\n",
    "for i in range(n_curves):\n",
    "    states.append(torch.load(state_dirs[i]))\n",
    "labels =[\"Clean\",\n",
    "            \"Filter\",\n",
    "            \"Gaussian Noise\",\n",
    "            \"Window permutation\",\n",
    "            \"Random Silence\",\n",
    "        ],\n",
    "fig, (train_loss) = plt.subplots(ncols = 1, figsize = (8,3), layout = \"constrained\")\n",
    "fig.suptitle(\"Training results (train)\")\n",
    "for i, state in enumerate(states):\n",
    "    n_epochs = np.arange(1,len(state[\"loss\"][0]) + 1, 1)\n",
    "    train_loss.plot(n_epochs , [e.item() for e in state[\"loss\"][0]], label = labels[i])\n",
    "    # train_acc.plot(n_epochs , state[\"acc\"][0], label = labels[i]),\n",
    "\n",
    "train_loss.set_xlabel(\"Epochs\")\n",
    "train_loss.set_ylabel(\"Loss\")\n",
    "train_loss.set_title(\"Loss evolution\")\n",
    "\n",
    "# train_acc.set_xlabel(\"Epochs\"),\n",
    "# train_acc.set_ylabel(\"Acc\"),\n",
    "# train_acc.set_title(\"Accuracy evolution\"),\n",
    "\n",
    "plt.legend(fontsize = \"x-small\")\n",
    "plt.plot()\n",
    "plt.savefig(\"audioplot_train.png\", dpi = 300)\n",
    "\n",
    "fig, (val_loss) = plt.subplots(ncols = 1, figsize = (8,3), layout = \"constrained\")\n",
    "fig.suptitle(\"Training results (validation)\")\n",
    "\n",
    "for i, state in enumerate(states):\n",
    "    n_epochs = np.arange(1,len(state[\"loss\"][0]) + 1 ,1)\n",
    "    val_loss.plot(n_epochs , [e.item() for e in state[\"loss\"][1]], label = labels[i])\n",
    "    # val_acc.plot(n_epochs , state[\"acc\"][1], label = labels[i]),\n",
    "\n",
    "val_loss.set_xlabel(\"Epochs\")\n",
    "val_loss.set_ylabel(\"Loss\")\n",
    "val_loss.set_title(\"Loss evolution\")\n",
    "\n",
    "# val_acc.set_xlabel(\"Epochs\"),\n",
    "# val_acc.set_ylabel(\"Acc\"),\n",
    "# val_acc.set_title(\"Accuracy evolution\"),\n",
    "\n",
    "plt.legend(fontsize = \"x-small\")\n",
    "plt.plot() \n",
    "plt.savefig(\"audioplot_val.png\",dpi = 300)"
   ]
  }
 ],
 "metadata": {
  "kernelspec": {
   "display_name": "neuron",
   "language": "python",
   "name": "python3"
  },
  "language_info": {
   "codemirror_mode": {
    "name": "ipython",
    "version": 3
   },
   "file_extension": ".py",
   "mimetype": "text/x-python",
   "name": "python",
   "nbconvert_exporter": "python",
   "pygments_lexer": "ipython3",
   "version": "3.11.4"
  }
 },
 "nbformat": 4,
 "nbformat_minor": 2
}
