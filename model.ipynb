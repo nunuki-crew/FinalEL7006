{
 "cells": [
  {
   "cell_type": "markdown",
   "metadata": {},
   "source": [
    "# Red de entrenamiento\n",
    "Ammi Beltrán y Fernanda Borja"
   ]
  },
  {
   "cell_type": "markdown",
   "metadata": {},
   "source": [
    "***"
   ]
  },
  {
   "cell_type": "markdown",
   "metadata": {},
   "source": [
    "# Import de librerías "
   ]
  },
  {
   "cell_type": "code",
   "execution_count": 2,
   "metadata": {},
   "outputs": [],
   "source": [
    "# Libreria de preprocesamiento\n",
    "import dataprep as prep\n",
    "# \n",
    "import numpy as np\n",
    "import matplotlib.pyplot as plt\n",
    "#\n",
    "import torch\n",
    "from torch import nn"
   ]
  },
  {
   "cell_type": "markdown",
   "metadata": {},
   "source": [
    "## Modelo"
   ]
  },
  {
   "cell_type": "markdown",
   "metadata": {},
   "source": [
    "### Channel Augmenter"
   ]
  },
  {
   "cell_type": "markdown",
   "metadata": {},
   "source": [
    "### Encoder convolucional"
   ]
  },
  {
   "cell_type": "markdown",
   "metadata": {},
   "source": [
    "<img src=\"img/renc.png\" alt=\"Drawing\" style=\"width: 800px;\"/>"
   ]
  },
  {
   "cell_type": "code",
   "execution_count": null,
   "metadata": {},
   "outputs": [],
   "source": [
    "class Convolutional_Enc(nn.Module):\n",
    "    '''\n",
    "    Encoder convolucional paper 2\n",
    "    '''\n",
    "    def __init__(self):\n",
    "        super(Convolutional_Enc, self).__init__()\n",
    "        # Reflection pad\n",
    "        nn.ReflectionPad1d()\n",
    "        # We begin with 3 convolutional blocks (top to bottom)\n",
    "        self.conv1 = nn.Sequential(\n",
    "            # To fit kernel size = 128\n",
    "            nn.ReflectionPad1d(63,64),\n",
    "            nn.Conv1d(in_channels = 1, out_channels = 100, kernel_size = 128),\n",
    "        )\n",
    "        self.conv2 = nn.Sequential(\n",
    "            # To fit kernel size = 64\n",
    "            nn.ReflectionPad1d(31,32),\n",
    "            nn.Conv1d(in_channels = 1, out_channels = 100, kernel_size = 64),\n",
    "        )\n",
    "        self.conv3 = nn.Sequential(\n",
    "            # To fit kernel size = 16\n",
    "            nn.ReflectionPad1d(7,8),\n",
    "            nn.Conv1d(in_channels = 1, out_channels = 50, kernel_size = 16),\n",
    "        )\n",
    "        # Repeated block\n",
    "        self.iterable = nn.Sequential(\n",
    "            nn.Linear(in_features = 250, out_features = 250),\n",
    "            nn.ReLU(),\n",
    "            nn.BatchNorm1d(num_features = 250),\n",
    "            nn.ReflectionPad1d(31, 32),\n",
    "            nn.Conv1d(in_channels = 64, out_channels = 250, kernel_size = 64),\n",
    "        )\n",
    "        # Outer layer\n",
    "        self.outer = nn.Sequential(\n",
    "            nn.ReLU(),\n",
    "            nn.BatchNorm1d(num_features = 250),\n",
    "            nn.ReflectionPad1d(31, 32),\n",
    "            nn.Conv1d(in_channels = 250, out_channels = 4, kernel_size = 64),\n",
    "        )\n",
    "\n",
    "    def forward(self, x):\n",
    "        # Pass trough convolutionals\n",
    "        xc1 = self.conv1(x)\n",
    "        xc2 = self.conv2(x)\n",
    "        xc3 = self.conv3(x)\n",
    "        # Concatenate\n",
    "        cat = torch.cat((xc1, xc2, xc3), dim = 1)\n",
    "        # Iterable phase\n",
    "        for i in range(4):\n",
    "            cat = self.iterable(cat)\n",
    "        # End layer\n",
    "        end = self.outer(cat)\n",
    "        #\n",
    "        return end"
   ]
  },
  {
   "cell_type": "markdown",
   "metadata": {},
   "source": [
    "### Proyector"
   ]
  },
  {
   "cell_type": "markdown",
   "metadata": {},
   "source": [
    "<img src=\"img/proyector.png\" alt=\"Drawing\" style=\"width: 800px;\"/>"
   ]
  },
  {
   "cell_type": "code",
   "execution_count": null,
   "metadata": {},
   "outputs": [],
   "source": [
    "class Projector(nn.Module):\n",
    "    def __init__(self):\n",
    "        super(Projector, self).__init__()\n",
    "\n",
    "        # LSTM's bidireccionales\n",
    "        self.lstm1 = nn.LSTM(\n",
    "            input_size = 4,\n",
    "            hidden_size = 256,\n",
    "            bidirectional = True\n",
    "        )\n",
    "        self.lstm2 = nn.LSTM(\n",
    "            input_size = 4,\n",
    "            hidden_size = 128,\n",
    "            bidirectional = True\n",
    "        )\n",
    "        self.lstm3 = nn.LSTM(\n",
    "            input_size = 4,\n",
    "            hidden_size = 64,\n",
    "            bidirectional = True\n",
    "        )\n",
    "        # Outer Layer\n",
    "        # Takes first and last output\n",
    "        self.outer = nn.Sequential(\n",
    "            nn.Linear(in_features = 4*(64 + 128 + 256), out_features = 128),\n",
    "            nn.ReLU(),\n",
    "            nn.Linear(in_features = 128, out_features = 32),\n",
    "        )\n",
    "    def forward(self, x):\n",
    "        # Downsampling\n",
    "        half = nn.functional.interpolate(x, scale_factor = 0.5)\n",
    "        quarter = nn.functional.interpolate(x, scale_factor = 0.25)\n",
    "        # Pass through LSTM\n",
    "        lstm1 = self.lstm1(x)\n",
    "        lstm2 = self.lstm2(half)\n",
    "        lstm3 = self.lstm3(quarter)\n",
    "        # Get First and Last\n",
    "        flo1 = lstm1[:, [0, -1], :]\n",
    "        flo2 = lstm2[:, [0, -1], :]\n",
    "        flo3 = lstm3[:, [0, -1], :]\n",
    "        # Concatenate\n",
    "        cat = torch.cat(flo1, flo2, flo3, dim = 1)\n",
    "        # Last Layer\n",
    "        end = self.outer(cat)\n",
    "        #\n",
    "        return end"
   ]
  },
  {
   "cell_type": "markdown",
   "metadata": {},
   "source": [
    "***\n",
    "### Pretext Task"
   ]
  },
  {
   "cell_type": "code",
   "execution_count": null,
   "metadata": {},
   "outputs": [],
   "source": [
    "class Pretext(nn.Module):\n",
    "    def __init__(self):\n",
    "        super(Pretext, self).__init__()\n",
    "        self.encoder = Convolutional_Enc() \n",
    "        self.projector = Projector()\n",
    "    def forward(self, x):\n",
    "        first = self.encoder(x)\n",
    "        end = self.projector(first)\n",
    "        return end"
   ]
  }
 ],
 "metadata": {
  "kernelspec": {
   "display_name": "neuron",
   "language": "python",
   "name": "python3"
  },
  "language_info": {
   "codemirror_mode": {
    "name": "ipython",
    "version": 3
   },
   "file_extension": ".py",
   "mimetype": "text/x-python",
   "name": "python",
   "nbconvert_exporter": "python",
   "pygments_lexer": "ipython3",
   "version": "3.11.4"
  },
  "orig_nbformat": 4
 },
 "nbformat": 4,
 "nbformat_minor": 2
}
