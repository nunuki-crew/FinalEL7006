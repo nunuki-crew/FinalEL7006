{
 "cells": [
  {
   "cell_type": "markdown",
   "metadata": {},
   "source": [
    "# Red de entrenamiento\n",
    "Ammi Beltrán y Fernanda Borja"
   ]
  },
  {
   "cell_type": "markdown",
   "metadata": {},
   "source": [
    "***"
   ]
  },
  {
   "cell_type": "markdown",
   "metadata": {},
   "source": [
    "# Import de librerías "
   ]
  },
  {
   "cell_type": "code",
   "execution_count": 23,
   "metadata": {},
   "outputs": [],
   "source": [
    "# Libreria de preprocesamiento\n",
    "import dataprep as prep\n",
    "# \n",
    "import numpy as np\n",
    "# import matplotlib.pyplot as plt\n",
    "#\n",
    "import torch\n",
    "from torch import nn\n",
    "#\n",
    "# from tqdm import tqdm, trange\n",
    "# import time"
   ]
  },
  {
   "cell_type": "markdown",
   "metadata": {},
   "source": [
    "## Modelo"
   ]
  },
  {
   "cell_type": "markdown",
   "metadata": {},
   "source": [
    "### Channel Augmenter"
   ]
  },
  {
   "cell_type": "markdown",
   "metadata": {},
   "source": [
    "***\n",
    "[Pendiente]\n",
    "***"
   ]
  },
  {
   "cell_type": "markdown",
   "metadata": {},
   "source": [
    "### Encoder convolucional"
   ]
  },
  {
   "cell_type": "markdown",
   "metadata": {},
   "source": [
    "<img src=\"img/renc.png\" alt=\"Drawing\" style=\"width: 800px;\"/>"
   ]
  },
  {
   "cell_type": "code",
   "execution_count": null,
   "metadata": {},
   "outputs": [],
   "source": [
    "class Convolutional_Enc(nn.Module):\n",
    "    '''\n",
    "    Encoder convolucional paper 2\n",
    "    '''\n",
    "    def __init__(self):\n",
    "        super(Convolutional_Enc, self).__init__()\n",
    "        # Reflection pad\n",
    "        nn.ReflectionPad1d()\n",
    "        # We begin with 3 convolutional blocks (top to bottom)\n",
    "        self.conv1 = nn.Sequential(\n",
    "            # To fit kernel size = 128\n",
    "            nn.ReflectionPad1d(63,64),\n",
    "            nn.Conv1d(in_channels = 1, out_channels = 100, kernel_size = 128),\n",
    "        )\n",
    "        self.conv2 = nn.Sequential(\n",
    "            # To fit kernel size = 64\n",
    "            nn.ReflectionPad1d(31,32),\n",
    "            nn.Conv1d(in_channels = 1, out_channels = 100, kernel_size = 64),\n",
    "        )\n",
    "        self.conv3 = nn.Sequential(\n",
    "            # To fit kernel size = 16\n",
    "            nn.ReflectionPad1d(7,8),\n",
    "            nn.Conv1d(in_channels = 1, out_channels = 50, kernel_size = 16),\n",
    "        )\n",
    "        # Repeated block\n",
    "        self.iterable = nn.Sequential(\n",
    "            nn.Linear(in_features = 250, out_features = 250),\n",
    "            nn.ReLU(),\n",
    "            nn.BatchNorm1d(num_features = 250),\n",
    "            nn.ReflectionPad1d(31, 32),\n",
    "            nn.Conv1d(in_channels = 64, out_channels = 250, kernel_size = 64),\n",
    "        )\n",
    "        # Outer layer\n",
    "        self.outer = nn.Sequential(\n",
    "            nn.ReLU(),\n",
    "            nn.BatchNorm1d(num_features = 250),\n",
    "            nn.ReflectionPad1d(31, 32),\n",
    "            nn.Conv1d(in_channels = 250, out_channels = 4, kernel_size = 64),\n",
    "        )\n",
    "\n",
    "    def forward(self, x):\n",
    "        # Pass trough convolutionals\n",
    "        xc1 = self.conv1(x)\n",
    "        xc2 = self.conv2(x)\n",
    "        xc3 = self.conv3(x)\n",
    "        # Concatenate\n",
    "        cat = torch.cat((xc1, xc2, xc3), dim = 1)\n",
    "        # Iterable phase\n",
    "        for i in range(4):\n",
    "            cat = self.iterable(cat)\n",
    "        # End layer\n",
    "        end = self.outer(cat)\n",
    "        #\n",
    "        return end"
   ]
  },
  {
   "cell_type": "markdown",
   "metadata": {},
   "source": [
    "### Proyector"
   ]
  },
  {
   "cell_type": "markdown",
   "metadata": {},
   "source": [
    "<img src=\"img/proyector.png\" alt=\"Drawing\" style=\"width: 800px;\"/>"
   ]
  },
  {
   "cell_type": "code",
   "execution_count": null,
   "metadata": {},
   "outputs": [],
   "source": [
    "class Projector(nn.Module):\n",
    "    def __init__(self):\n",
    "        super(Projector, self).__init__()\n",
    "\n",
    "        # LSTM's bidireccionales\n",
    "        self.lstm1 = nn.LSTM(\n",
    "            input_size = 4,\n",
    "            hidden_size = 256,\n",
    "            bidirectional = True\n",
    "        )\n",
    "        self.lstm2 = nn.LSTM(\n",
    "            input_size = 4,\n",
    "            hidden_size = 128,\n",
    "            bidirectional = True\n",
    "        )\n",
    "        self.lstm3 = nn.LSTM(\n",
    "            input_size = 4,\n",
    "            hidden_size = 64,\n",
    "            bidirectional = True\n",
    "        )\n",
    "        # Outer Layer\n",
    "        # Takes first and last output\n",
    "        self.outer = nn.Sequential(\n",
    "            nn.Linear(in_features = 4*(64 + 128 + 256), out_features = 128),\n",
    "            nn.ReLU(),\n",
    "            nn.Linear(in_features = 128, out_features = 32),\n",
    "        )\n",
    "    def forward(self, x):\n",
    "        # Downsampling\n",
    "        half = nn.functional.interpolate(x, scale_factor = 0.5)\n",
    "        quarter = nn.functional.interpolate(x, scale_factor = 0.25)\n",
    "        # Pass through LSTM\n",
    "        lstm1 = self.lstm1(x)\n",
    "        lstm2 = self.lstm2(half)\n",
    "        lstm3 = self.lstm3(quarter)\n",
    "        # Get First and Last\n",
    "        flo1 = lstm1[:, [0, -1], :]\n",
    "        flo2 = lstm2[:, [0, -1], :]\n",
    "        flo3 = lstm3[:, [0, -1], :]\n",
    "        # Concatenate\n",
    "        cat = torch.cat(flo1, flo2, flo3, dim = 1)\n",
    "        # Last Layer\n",
    "        end = self.outer(cat)\n",
    "        #\n",
    "        return end"
   ]
  },
  {
   "cell_type": "markdown",
   "metadata": {},
   "source": [
    "### Clasificador"
   ]
  },
  {
   "cell_type": "code",
   "execution_count": null,
   "metadata": {},
   "outputs": [],
   "source": [
    "class Classifier(nn.Module):\n",
    "    def __init__(self):\n",
    "        super(Classifier, self).__init__()\n",
    "        \n",
    "        # LSTM's bidireccionales\n",
    "        self.lstm1 = nn.LSTM(\n",
    "            input_size = 4,\n",
    "            hidden_size = 256,\n",
    "            bidirectional = True\n",
    "        )\n",
    "        self.lstm2 = nn.LSTM(\n",
    "            input_size = 4,\n",
    "            hidden_size = 128,\n",
    "            bidirectional = True\n",
    "        )\n",
    "        self.lstm3 = nn.LSTM(\n",
    "            input_size = 4,\n",
    "            hidden_size = 64,\n",
    "            bidirectional = True\n",
    "        )\n",
    "        # Outer Layer\n",
    "        # Takes first and last output\n",
    "        self.outer = nn.Sequential(\n",
    "            nn.Linear(in_features = 4*(64 + 128 + 256), out_features = 128),\n",
    "            nn.ReLU(),\n",
    "            nn.Linear(in_features = 128, out_features = 2), # num of classes\n",
    "            nn.LogSoftmax()\n",
    "        )\n",
    "\n",
    "    def forward(self, x):\n",
    "        # Downsampling\n",
    "        half = nn.functional.interpolate(x, scale_factor = 0.5)\n",
    "        quarter = nn.functional.interpolate(x, scale_factor = 0.25)\n",
    "        # Pass through LSTM\n",
    "        lstm1 = self.lstm1(x)\n",
    "        lstm2 = self.lstm2(half)\n",
    "        lstm3 = self.lstm3(quarter)\n",
    "        # Get First and Last\n",
    "        flo1 = lstm1[:, [0, -1], :]\n",
    "        flo2 = lstm2[:, [0, -1], :]\n",
    "        flo3 = lstm3[:, [0, -1], :]\n",
    "        # Concatenate\n",
    "        cat = torch.cat(flo1, flo2, flo3, dim = 1)\n",
    "        # Last Layer\n",
    "        end = self.outer(cat)\n",
    "        \n",
    "        #\n",
    "        return end\n",
    "# We use a negativelog-likelihood loss alongside the LogSoftmax\n",
    "# layer to compute the cross-entropy loss."
   ]
  },
  {
   "cell_type": "markdown",
   "metadata": {},
   "source": [
    "***\n",
    "### Pretext Task"
   ]
  },
  {
   "cell_type": "code",
   "execution_count": null,
   "metadata": {},
   "outputs": [],
   "source": [
    "class Pretext(nn.Module):\n",
    "    def __init__(self):\n",
    "        super(Pretext, self).__init__()\n",
    "        self.encoder = Convolutional_Enc() \n",
    "        self.projector = Projector()\n",
    "    def forward(self, x):\n",
    "        first = self.encoder(x)\n",
    "        end = self.projector(first)\n",
    "        return end"
   ]
  },
  {
   "cell_type": "markdown",
   "metadata": {},
   "source": [
    "### Classifier task"
   ]
  },
  {
   "cell_type": "code",
   "execution_count": null,
   "metadata": {},
   "outputs": [],
   "source": [
    "class DownPretext(nn.Module):\n",
    "    def __init__(self):\n",
    "        super(Pretext, self).__init__()\n",
    "        self.encoder = Convolutional_Enc() \n",
    "        self.projector = Classifier()\n",
    "    def forward(self, x):\n",
    "        first = self.encoder(x)\n",
    "        end = self.projector(first)\n",
    "        return end"
   ]
  },
  {
   "cell_type": "markdown",
   "metadata": {},
   "source": [
    "***"
   ]
  },
  {
   "cell_type": "markdown",
   "metadata": {},
   "source": [
    "## Downstream"
   ]
  },
  {
   "cell_type": "code",
   "execution_count": null,
   "metadata": {},
   "outputs": [],
   "source": [
    "# Por definicion el primer clasificador está construido ya c:"
   ]
  },
  {
   "cell_type": "markdown",
   "metadata": {},
   "source": [
    "## Entrenamiento"
   ]
  },
  {
   "cell_type": "markdown",
   "metadata": {},
   "source": [
    "Loss de nceLoss"
   ]
  },
  {
   "cell_type": "markdown",
   "metadata": {},
   "source": [
    "### Pretext"
   ]
  },
  {
   "cell_type": "code",
   "execution_count": 1,
   "metadata": {},
   "outputs": [],
   "source": [
    "from losses import InfoNceLoss\n",
    "def preloss(model, batch, criterion = nn.CrossEntropyLoss, device = \"cuda\"):\n",
    "    x1, x2 = batch\n",
    "    model = model.to(device)\n",
    "    x1, x2 = x1.to(device), x2.to(device)\n",
    "    y1, y2 = model(x1), model(x2)\n",
    "    del x1, x2\n",
    "    loss = criterion(y1, y2)"
   ]
  },
  {
   "cell_type": "code",
   "execution_count": null,
   "metadata": {},
   "outputs": [],
   "source": [
    "def train_epoch(model, train_loader, criterion, optimizer):\n",
    "    # training mode\n",
    "    model.train()\n",
    "    lossSum = 0\n",
    "    iters = 0\n",
    "    for i, batch in enumerate(train_loader):\n",
    "        loss = preloss(model, batch, criterion)\n",
    "        #\n",
    "        optimizer.zero_grad()\n",
    "        loss.backward()\n",
    "        optimizer.step()\n",
    "        print(f\"Iter: {i + 1}/{len(train_loader)}, Loss:{loss}\")\n",
    "        lossSum += loss\n",
    "        iters += 1\n",
    "    trainloss = lossSum/iters\n",
    "    print(f\"Epoch train loss = {trainloss}\")\n",
    "    return trainloss"
   ]
  },
  {
   "cell_type": "code",
   "execution_count": null,
   "metadata": {},
   "outputs": [],
   "source": [
    "def pretext_train(model, epochs, train_loader, criterion, optimizer):\n",
    "    cumulative_loss = []\n",
    "    best_loss = np.inf\n",
    "    for epoch in range(0, epochs):\n",
    "        ep_loss = train_epoch(model, train_loader, criterion, optimizer)\n",
    "        cumulative_loss.append(ep_loss)\n",
    "        if (best_loss>ep_loss):\n",
    "            print(f\"Better params found in epoch = {epoch}, saved params\")\n",
    "            torch.save(model.state_dict(), f'bestEncoderParams.pt')\n",
    "        model.load_state_dict(torch.load(f'bestEncoderParams.pt'))\n",
    "    return cumulative_loss    "
   ]
  },
  {
   "cell_type": "markdown",
   "metadata": {},
   "source": [
    "### Downstream"
   ]
  },
  {
   "cell_type": "code",
   "execution_count": null,
   "metadata": {},
   "outputs": [],
   "source": [
    "def downloss(model, batch, criterion = nn.NLLLos(), device = \"cuda\"):\n",
    "    x, y = batch\n",
    "    model.train()\n",
    "    model = model.to(device)\n",
    "    x, y = x.to(device), y.to(device)\n",
    "    y_pred = model(x)\n",
    "    loss = criterion(y_pred, y)\n",
    "    y_pred = torch.argmax(y_pred) # REVISAR FORMATO DE LABEL, POR AHORA ENTREGA 0 o 1, PODRIA SER [0, 1] y [1, 0]\n",
    "    return loss, y, y_pred"
   ]
  },
  {
   "cell_type": "code",
   "execution_count": 2,
   "metadata": {},
   "outputs": [],
   "source": [
    "def downtrain_epoch(model, train_dataset, criterion, optimizer):\n",
    "    acc = 0\n",
    "    e_loss = 0\n",
    "    count = 0\n",
    "    for i, batch in enumerate(train_dataset):\n",
    "        loss, y, y_pred = downloss(model, batch, criterion)\n",
    "\n",
    "        optimizer.zero_grad()\n",
    "        loss.backward()\n",
    "        optimizer.step()\n",
    "\n",
    "        e_loss +=loss\n",
    "        acc +=(y == y_pred)\n",
    "        count +=1\n",
    "        print(f\"Iter: {i + 1}/{len(train_dataset)}, Loss:{loss}\")\n",
    "    acc = acc/count\n",
    "    e_loss = e_loss/count\n",
    "    print(f\"Epoch train loss = {e_loss}\")\n",
    "    return e_loss, acc"
   ]
  },
  {
   "cell_type": "code",
   "execution_count": null,
   "metadata": {},
   "outputs": [],
   "source": [
    "def downvalidate(model, val_dataset, criterion):\n",
    "    acc = 0\n",
    "    e_loss = 0\n",
    "    count = 0\n",
    "    model.eval()\n",
    "    with torch.no_grad():\n",
    "        for i, batch in enumerate(val_dataset):\n",
    "            loss, y, y_pred = downloss(model, batch, criterion)\n",
    "            e_loss +=loss\n",
    "            acc+=(y==y_pred)\n",
    "            count +=1\n",
    "        acc = acc/count\n",
    "        e_loss = e_loss/count\n",
    "    return e_loss, acc"
   ]
  },
  {
   "cell_type": "code",
   "execution_count": null,
   "metadata": {},
   "outputs": [],
   "source": [
    "def downtrain(model, epochs, train_dataset, val_dataset, criterion, optimizer):\n",
    "    model.train()\n",
    "    best_loss = np.inf\n",
    "    train_curves = [[],[]] # [loss, accuracy]\n",
    "    val_curves = [[],[]]\n",
    "    for epoch in range(0, epochs):\n",
    "        # Entrenamos\n",
    "        print(f\"Epoch nro {epoch +1}/{epochs}\")\n",
    "        e_loss, e_acc = downtrain(model, train_dataset, criterion, optimizer)\n",
    "        train_curves[0].append(e_loss)\n",
    "        train_curves[1].append(e_acc)\n",
    "        # Validamos\n",
    "        val_loss, val_acc = downvalidate(model, val_dataset, criterion)\n",
    "        val_curves[0].append(val_loss)\n",
    "        val_curves[1].append(val_acc)\n",
    "        if val_loss < best_loss:\n",
    "            torch.save(model.state_dict(), f'bestDownParams.pt')\n",
    "        model.load_state_dict(torch.load(f'bestDownParams.pt'))\n",
    "\n",
    "    return train_curves, val_curves"
   ]
  },
  {
   "cell_type": "markdown",
   "metadata": {},
   "source": [
    "***"
   ]
  },
  {
   "cell_type": "markdown",
   "metadata": {},
   "source": [
    "# Entrenamos!"
   ]
  },
  {
   "cell_type": "code",
   "execution_count": 27,
   "metadata": {},
   "outputs": [
    {
     "ename": "NameError",
     "evalue": "name 'awa' is not defined",
     "output_type": "error",
     "traceback": [
      "\u001b[1;31m---------------------------------------------------------------------------\u001b[0m",
      "\u001b[1;31mNameError\u001b[0m                                 Traceback (most recent call last)",
      "\u001b[1;32md:\\GitHub\\FinalEL7006\\model.ipynb Cell 36\u001b[0m line \u001b[0;36m2\n\u001b[0;32m      <a href='vscode-notebook-cell:/d%3A/GitHub/FinalEL7006/model.ipynb#X51sZmlsZQ%3D%3D?line=0'>1</a>\u001b[0m hparams \u001b[39m=\u001b[39m {\n\u001b[1;32m----> <a href='vscode-notebook-cell:/d%3A/GitHub/FinalEL7006/model.ipynb#X51sZmlsZQ%3D%3D?line=1'>2</a>\u001b[0m     awa : \u001b[39m2\u001b[39m,\n\u001b[0;32m      <a href='vscode-notebook-cell:/d%3A/GitHub/FinalEL7006/model.ipynb#X51sZmlsZQ%3D%3D?line=2'>3</a>\u001b[0m }\n",
      "\u001b[1;31mNameError\u001b[0m: name 'awa' is not defined"
     ]
    }
   ],
   "source": [
    "hparams = {\n",
    "    \n",
    "}"
   ]
  }
 ],
 "metadata": {
  "kernelspec": {
   "display_name": "neuron",
   "language": "python",
   "name": "python3"
  },
  "language_info": {
   "codemirror_mode": {
    "name": "ipython",
    "version": 3
   },
   "file_extension": ".py",
   "mimetype": "text/x-python",
   "name": "python",
   "nbconvert_exporter": "python",
   "pygments_lexer": "ipython3",
   "version": "3.11.4"
  },
  "orig_nbformat": 4
 },
 "nbformat": 4,
 "nbformat_minor": 2
}
