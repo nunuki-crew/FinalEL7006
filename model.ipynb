{
 "cells": [
  {
   "cell_type": "markdown",
   "metadata": {},
   "source": [
    "# Red de entrenamiento\n",
    "Ammi Beltrán y Fernanda Borja"
   ]
  },
  {
   "cell_type": "markdown",
   "metadata": {},
   "source": [
    "***"
   ]
  },
  {
   "cell_type": "markdown",
   "metadata": {},
   "source": [
    "# Import de librerías "
   ]
  },
  {
   "cell_type": "code",
   "execution_count": 2,
   "metadata": {},
   "outputs": [],
   "source": [
    "# Libreria de preprocesamiento\n",
    "import dataprep as prep\n",
    "# \n",
    "import numpy as np\n",
    "import matplotlib.pyplot as plt\n",
    "#\n",
    "import torch\n",
    "from torch import nn"
   ]
  },
  {
   "cell_type": "markdown",
   "metadata": {},
   "source": [
    "## Modelo"
   ]
  },
  {
   "cell_type": "markdown",
   "metadata": {},
   "source": [
    "### Encoder convolucional"
   ]
  },
  {
   "cell_type": "markdown",
   "metadata": {},
   "source": [
    "<img src=\"img/renc.png\" alt=\"Drawing\" style=\"width: 800px;\"/>"
   ]
  },
  {
   "cell_type": "code",
   "execution_count": null,
   "metadata": {},
   "outputs": [],
   "source": [
    "class Convolutional_Enc(nn.Module):\n",
    "    '''\n",
    "    Encoder convolucional paper 2\n",
    "    '''\n",
    "    def __init__(self):\n",
    "        super(Convolutional_Enc, self).__init__()\n",
    "        # Reflection pad\n",
    "        nn.ReflectionPad1d()\n",
    "        # We begin with 3 convolutional blocks (top to bottom)\n",
    "        self.conv1 = nn.Sequential(\n",
    "            # To fit kernel size = 128\n",
    "            nn.ReflectionPad1d(63,64),\n",
    "            nn.Conv1d(in_channels = 1, out_channels = 100, kernel_size = 128),\n",
    "        )\n",
    "        self.conv2 = nn.Sequential(\n",
    "            # To fit kernel size = 64\n",
    "            nn.ReflectionPad1d(31,32),\n",
    "            nn.Conv1d(in_channels = 1, out_channels = 100, kernel_size = 64),\n",
    "        )\n",
    "        self.conv3 = nn.Sequential(\n",
    "            # To fit kernel size = 16\n",
    "            nn.ReflectionPad1d(7,8),\n",
    "            nn.Conv1d(in_channels = 1, out_channels = 50, kernel_size = 16),\n",
    "        )\n",
    "        # Repeated block\n",
    "        self.iterable = nn.Sequential(\n",
    "            nn.Linear(in_features = 250, out_features = 250),\n",
    "            nn.ReLU(),\n",
    "            nn.BatchNorm1d(num_features = 250),\n",
    "            nn.ReflectionPad1d(31, 32),\n",
    "            nn.Conv1d(in_channels = 64, out_channels = 250, kernel_size = 64),\n",
    "        )\n",
    "        # Outer layer\n",
    "        self.outer = nn.Sequential(\n",
    "            nn.ReLU(),\n",
    "            nn.BatchNorm1d(num_features = 250),\n",
    "            nn.ReflectionPad1d(31, 32),\n",
    "            nn.Conv1d(in_channels = 250, out_channels = 4, kernel_size = 64),\n",
    "        )\n",
    "\n",
    "    def forward(self, x):\n",
    "        # Pasamos por los convolucionales\n",
    "        xc1 = self.conv1(x)\n",
    "        xc2 = self.conv2(x)\n",
    "        xc3 = self.conv3(x)\n",
    "\n",
    "\n",
    "\n"
   ]
  }
 ],
 "metadata": {
  "kernelspec": {
   "display_name": "neuron",
   "language": "python",
   "name": "python3"
  },
  "language_info": {
   "codemirror_mode": {
    "name": "ipython",
    "version": 3
   },
   "file_extension": ".py",
   "mimetype": "text/x-python",
   "name": "python",
   "nbconvert_exporter": "python",
   "pygments_lexer": "ipython3",
   "version": "3.11.4"
  },
  "orig_nbformat": 4
 },
 "nbformat": 4,
 "nbformat_minor": 2
}
