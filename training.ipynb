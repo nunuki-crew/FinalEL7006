{
 "cells": [
  {
   "cell_type": "code",
   "execution_count": 13,
   "metadata": {},
   "outputs": [],
   "source": [
    "from pyFiles.training import *\n",
    "from pyFiles.models import *\n",
    "from pyFiles.dataprep import *\n",
    "from pyFiles.dataprep2 import *\n",
    "#\n",
    "import torch\n",
    "from torch import nn\n",
    "from torch.nn import functional as F\n",
    "#\n",
    "from pyFiles.losses import InfoNceLoss"
   ]
  },
  {
   "cell_type": "code",
   "execution_count": 9,
   "metadata": {},
   "outputs": [
    {
     "name": "stdout",
     "output_type": "stream",
     "text": [
      "Extracting EDF parameters from d:\\GitHub\\FinalEL7006\\test\\aaaaaaaa\\s001_2015_12_30\\01_tcp_ar\\aaaaaaaa_s001_t000.edf...\n",
      "EDF file detected\n",
      "Setting channel info structure...\n",
      "Creating raw.info structure...\n",
      "Reading 0 ... 323839  =      0.000 ...  1264.996 secs...\n",
      "Filtering raw data in 1 contiguous segment\n",
      "Setting up band-pass filter from 0.1 - 30 Hz\n",
      "\n",
      "IIR filter parameters\n",
      "---------------------\n",
      "Butterworth bandpass zero-phase (two-pass forward and reverse) non-causal filter:\n",
      "- Filter order 16 (effective, after forward-backward)\n",
      "- Cutoffs at 0.10, 30.00 Hz: -6.02, -6.02 dB\n",
      "\n",
      "Not setting metadata\n",
      "33 matching events found\n",
      "No baseline correction applied\n",
      "0 projection items activated\n",
      "Using data from preloaded Raw for 33 events and 4001 original time points ...\n",
      "0 bad epochs dropped\n",
      "Dropped 1 epoch: 32\n"
     ]
    },
    {
     "data": {
      "text/html": [
       "<div>\n",
       "<style scoped>\n",
       "    .dataframe tbody tr th:only-of-type {\n",
       "        vertical-align: middle;\n",
       "    }\n",
       "\n",
       "    .dataframe tbody tr th {\n",
       "        vertical-align: top;\n",
       "    }\n",
       "\n",
       "    .dataframe thead th {\n",
       "        text-align: right;\n",
       "    }\n",
       "</style>\n",
       "<table border=\"1\" class=\"dataframe\">\n",
       "  <thead>\n",
       "    <tr style=\"text-align: right;\">\n",
       "      <th></th>\n",
       "      <th>Patient</th>\n",
       "      <th>Session</th>\n",
       "      <th>N_Win</th>\n",
       "      <th>Dir</th>\n",
       "    </tr>\n",
       "  </thead>\n",
       "  <tbody>\n",
       "    <tr>\n",
       "      <th>0</th>\n",
       "      <td>aaaaaaaa</td>\n",
       "      <td>s001</td>\n",
       "      <td>1</td>\n",
       "      <td>dataper_channel\\aaaaaaaa\\aaaaaaaa_s001_w1_ch1.pt</td>\n",
       "    </tr>\n",
       "    <tr>\n",
       "      <th>1</th>\n",
       "      <td>aaaaaaaa</td>\n",
       "      <td>s001</td>\n",
       "      <td>1</td>\n",
       "      <td>dataper_channel\\aaaaaaaa\\aaaaaaaa_s001_w1_ch2.pt</td>\n",
       "    </tr>\n",
       "    <tr>\n",
       "      <th>2</th>\n",
       "      <td>aaaaaaaa</td>\n",
       "      <td>s001</td>\n",
       "      <td>1</td>\n",
       "      <td>dataper_channel\\aaaaaaaa\\aaaaaaaa_s001_w1_ch3.pt</td>\n",
       "    </tr>\n",
       "    <tr>\n",
       "      <th>3</th>\n",
       "      <td>aaaaaaaa</td>\n",
       "      <td>s001</td>\n",
       "      <td>1</td>\n",
       "      <td>dataper_channel\\aaaaaaaa\\aaaaaaaa_s001_w1_ch4.pt</td>\n",
       "    </tr>\n",
       "    <tr>\n",
       "      <th>4</th>\n",
       "      <td>aaaaaaaa</td>\n",
       "      <td>s001</td>\n",
       "      <td>1</td>\n",
       "      <td>dataper_channel\\aaaaaaaa\\aaaaaaaa_s001_w1_ch5.pt</td>\n",
       "    </tr>\n",
       "    <tr>\n",
       "      <th>...</th>\n",
       "      <td>...</td>\n",
       "      <td>...</td>\n",
       "      <td>...</td>\n",
       "      <td>...</td>\n",
       "    </tr>\n",
       "    <tr>\n",
       "      <th>603</th>\n",
       "      <td>aaaaaaaa</td>\n",
       "      <td>s001</td>\n",
       "      <td>32</td>\n",
       "      <td>dataper_channel\\aaaaaaaa\\aaaaaaaa_s001_w32_ch1...</td>\n",
       "    </tr>\n",
       "    <tr>\n",
       "      <th>604</th>\n",
       "      <td>aaaaaaaa</td>\n",
       "      <td>s001</td>\n",
       "      <td>32</td>\n",
       "      <td>dataper_channel\\aaaaaaaa\\aaaaaaaa_s001_w32_ch1...</td>\n",
       "    </tr>\n",
       "    <tr>\n",
       "      <th>605</th>\n",
       "      <td>aaaaaaaa</td>\n",
       "      <td>s001</td>\n",
       "      <td>32</td>\n",
       "      <td>dataper_channel\\aaaaaaaa\\aaaaaaaa_s001_w32_ch1...</td>\n",
       "    </tr>\n",
       "    <tr>\n",
       "      <th>606</th>\n",
       "      <td>aaaaaaaa</td>\n",
       "      <td>s001</td>\n",
       "      <td>32</td>\n",
       "      <td>dataper_channel\\aaaaaaaa\\aaaaaaaa_s001_w32_ch1...</td>\n",
       "    </tr>\n",
       "    <tr>\n",
       "      <th>607</th>\n",
       "      <td>aaaaaaaa</td>\n",
       "      <td>s001</td>\n",
       "      <td>32</td>\n",
       "      <td>dataper_channel\\aaaaaaaa\\aaaaaaaa_s001_w32_ch1...</td>\n",
       "    </tr>\n",
       "  </tbody>\n",
       "</table>\n",
       "<p>608 rows × 4 columns</p>\n",
       "</div>"
      ],
      "text/plain": [
       "      Patient Session  N_Win  \\\n",
       "0    aaaaaaaa    s001      1   \n",
       "1    aaaaaaaa    s001      1   \n",
       "2    aaaaaaaa    s001      1   \n",
       "3    aaaaaaaa    s001      1   \n",
       "4    aaaaaaaa    s001      1   \n",
       "..        ...     ...    ...   \n",
       "603  aaaaaaaa    s001     32   \n",
       "604  aaaaaaaa    s001     32   \n",
       "605  aaaaaaaa    s001     32   \n",
       "606  aaaaaaaa    s001     32   \n",
       "607  aaaaaaaa    s001     32   \n",
       "\n",
       "                                                   Dir  \n",
       "0     dataper_channel\\aaaaaaaa\\aaaaaaaa_s001_w1_ch1.pt  \n",
       "1     dataper_channel\\aaaaaaaa\\aaaaaaaa_s001_w1_ch2.pt  \n",
       "2     dataper_channel\\aaaaaaaa\\aaaaaaaa_s001_w1_ch3.pt  \n",
       "3     dataper_channel\\aaaaaaaa\\aaaaaaaa_s001_w1_ch4.pt  \n",
       "4     dataper_channel\\aaaaaaaa\\aaaaaaaa_s001_w1_ch5.pt  \n",
       "..                                                 ...  \n",
       "603  dataper_channel\\aaaaaaaa\\aaaaaaaa_s001_w32_ch1...  \n",
       "604  dataper_channel\\aaaaaaaa\\aaaaaaaa_s001_w32_ch1...  \n",
       "605  dataper_channel\\aaaaaaaa\\aaaaaaaa_s001_w32_ch1...  \n",
       "606  dataper_channel\\aaaaaaaa\\aaaaaaaa_s001_w32_ch1...  \n",
       "607  dataper_channel\\aaaaaaaa\\aaaaaaaa_s001_w32_ch1...  \n",
       "\n",
       "[608 rows x 4 columns]"
      ]
     },
     "execution_count": 9,
     "metadata": {},
     "output_type": "execute_result"
    }
   ],
   "source": [
    "import os\n",
    "torch.set_default_dtype(torch.float)\n",
    "# os.system('export CUDA_VISIBLE_DEVICES=0')\n",
    "\n",
    "# os.system('export CUDA_VISIBLE_DEVICES=1')\n",
    "os.environ[\"CUDA_VISIBLE_DEVICES\"] = \"0\" "
   ]
  },
  {
   "cell_type": "code",
   "execution_count": null,
   "metadata": {},
   "outputs": [],
   "source": [
    "# prep(\"/home/el7006-23-t4/dataset/tuh_eeg\", mode = \"per_channel\", save = True, save_dir = \"/home/el7006-23-t4/data\",)"
   ]
  },
  {
   "cell_type": "code",
   "execution_count": null,
   "metadata": {},
   "outputs": [],
   "source": [
    "# spliter = DFSpliter(save = True)\n",
    "# train_df, val_df = spliter(\"prep_channels.csv\", \"\")"
   ]
  },
  {
   "cell_type": "code",
   "execution_count": 14,
   "metadata": {},
   "outputs": [],
   "source": [
    "train_dataset = CustomEEGDataset(\"train_feats.csv\", root_dir = \"\", multi = False)\n",
    "val_dataset = CustomEEGDataset(\"val_feats.csv\", root_dir = \"\", multi = False)"
   ]
  },
  {
   "cell_type": "code",
   "execution_count": 15,
   "metadata": {},
   "outputs": [],
   "source": [
    "trainloader = DataLoader(train_dataset, batch_size = 100, shuffle = True, num_workers = 0)\n",
    "valloader = DataLoader(val_dataset, batch_size = 100, shuffle = False, num_workers = 0)"
   ]
  },
  {
   "cell_type": "code",
   "execution_count": 21,
   "metadata": {},
   "outputs": [
    {
     "name": "stdout",
     "output_type": "stream",
     "text": [
      "Epoch nro 1/2\n",
      "Iter: 1/152, Loss:30.156198501586914\n",
      "Iter: 2/152, Loss:30.268056869506836\n"
     ]
    },
    {
     "ename": "KeyboardInterrupt",
     "evalue": "",
     "output_type": "error",
     "traceback": [
      "\u001b[1;31m---------------------------------------------------------------------------\u001b[0m",
      "\u001b[1;31mKeyboardInterrupt\u001b[0m                         Traceback (most recent call last)",
      "\u001b[1;32mc:\\Users\\TheSy\\Desktop\\FinalEL7006\\training.ipynb Cell 6\u001b[0m line \u001b[0;36m5\n\u001b[0;32m      <a href='vscode-notebook-cell:/c%3A/Users/TheSy/Desktop/FinalEL7006/training.ipynb#X10sZmlsZQ%3D%3D?line=1'>2</a>\u001b[0m loss \u001b[39m=\u001b[39m BarlowTwins(\u001b[39m0.1\u001b[39m)\n\u001b[0;32m      <a href='vscode-notebook-cell:/c%3A/Users/TheSy/Desktop/FinalEL7006/training.ipynb#X10sZmlsZQ%3D%3D?line=2'>3</a>\u001b[0m \u001b[39m# dataset = torch.load(\"test_batch.pt\")\u001b[39;00m\n\u001b[0;32m      <a href='vscode-notebook-cell:/c%3A/Users/TheSy/Desktop/FinalEL7006/training.ipynb#X10sZmlsZQ%3D%3D?line=3'>4</a>\u001b[0m \u001b[39m# data = (dataset, dataset)\u001b[39;00m\n\u001b[1;32m----> <a href='vscode-notebook-cell:/c%3A/Users/TheSy/Desktop/FinalEL7006/training.ipynb#X10sZmlsZQ%3D%3D?line=4'>5</a>\u001b[0m pretext_train(model, \u001b[39m2\u001b[39m, trainloader, trainloader, loss, torch\u001b[39m.\u001b[39moptim\u001b[39m.\u001b[39mAdam(model\u001b[39m.\u001b[39mparameters()), aug, each \u001b[39m=\u001b[39m \u001b[39m50\u001b[39m, state \u001b[39m=\u001b[39m \u001b[39mNone\u001b[39;00m)\n",
      "File \u001b[1;32mc:\\Users\\TheSy\\Desktop\\FinalEL7006\\training.py:92\u001b[0m, in \u001b[0;36mpretext_train\u001b[1;34m(model, epochs, train_loader, val_loader, criterion, optimizer, augmentation, each, state)\u001b[0m\n\u001b[0;32m     90\u001b[0m \u001b[39mprint\u001b[39m(\u001b[39mf\u001b[39m\u001b[39m\"\u001b[39m\u001b[39mEpoch nro \u001b[39m\u001b[39m{\u001b[39;00mepoch \u001b[39m+\u001b[39m \u001b[39m1\u001b[39m\u001b[39m}\u001b[39;00m\u001b[39m/\u001b[39m\u001b[39m{\u001b[39;00mepochs\u001b[39m}\u001b[39;00m\u001b[39m\"\u001b[39m)\n\u001b[0;32m     91\u001b[0m \u001b[39m# Train\u001b[39;00m\n\u001b[1;32m---> 92\u001b[0m train_loss \u001b[39m=\u001b[39m pretrain_epoch(model, train_loader, criterion, optimizer, augmentation)\n\u001b[0;32m     93\u001b[0m \u001b[39m# Val\u001b[39;00m\n\u001b[0;32m     94\u001b[0m val_loss \u001b[39m=\u001b[39m prevalidate(model, val_loader,criterion, augmentation)\n",
      "File \u001b[1;32mc:\\Users\\TheSy\\Desktop\\FinalEL7006\\training.py:60\u001b[0m, in \u001b[0;36mpretrain_epoch\u001b[1;34m(model, train_loader, criterion, optimizer, augmentation)\u001b[0m\n\u001b[0;32m     58\u001b[0m \u001b[39m#\u001b[39;00m\n\u001b[0;32m     59\u001b[0m optimizer\u001b[39m.\u001b[39mzero_grad()\n\u001b[1;32m---> 60\u001b[0m loss\u001b[39m.\u001b[39;49mbackward()\n\u001b[0;32m     61\u001b[0m optimizer\u001b[39m.\u001b[39mstep()\n\u001b[0;32m     62\u001b[0m \u001b[39mprint\u001b[39m(\u001b[39mf\u001b[39m\u001b[39m\"\u001b[39m\u001b[39mIter: \u001b[39m\u001b[39m{\u001b[39;00mi \u001b[39m+\u001b[39m \u001b[39m1\u001b[39m\u001b[39m}\u001b[39;00m\u001b[39m/\u001b[39m\u001b[39m{\u001b[39;00m\u001b[39mlen\u001b[39m(train_loader)\u001b[39m}\u001b[39;00m\u001b[39m, Loss:\u001b[39m\u001b[39m{\u001b[39;00mloss\u001b[39m}\u001b[39;00m\u001b[39m\"\u001b[39m)\n",
      "File \u001b[1;32m~\\AppData\\Local\\Packages\\PythonSoftwareFoundation.Python.3.10_qbz5n2kfra8p0\\LocalCache\\local-packages\\Python310\\site-packages\\torch\\_tensor.py:487\u001b[0m, in \u001b[0;36mTensor.backward\u001b[1;34m(self, gradient, retain_graph, create_graph, inputs)\u001b[0m\n\u001b[0;32m    477\u001b[0m \u001b[39mif\u001b[39;00m has_torch_function_unary(\u001b[39mself\u001b[39m):\n\u001b[0;32m    478\u001b[0m     \u001b[39mreturn\u001b[39;00m handle_torch_function(\n\u001b[0;32m    479\u001b[0m         Tensor\u001b[39m.\u001b[39mbackward,\n\u001b[0;32m    480\u001b[0m         (\u001b[39mself\u001b[39m,),\n\u001b[1;32m   (...)\u001b[0m\n\u001b[0;32m    485\u001b[0m         inputs\u001b[39m=\u001b[39minputs,\n\u001b[0;32m    486\u001b[0m     )\n\u001b[1;32m--> 487\u001b[0m torch\u001b[39m.\u001b[39;49mautograd\u001b[39m.\u001b[39;49mbackward(\n\u001b[0;32m    488\u001b[0m     \u001b[39mself\u001b[39;49m, gradient, retain_graph, create_graph, inputs\u001b[39m=\u001b[39;49minputs\n\u001b[0;32m    489\u001b[0m )\n",
      "File \u001b[1;32m~\\AppData\\Local\\Packages\\PythonSoftwareFoundation.Python.3.10_qbz5n2kfra8p0\\LocalCache\\local-packages\\Python310\\site-packages\\torch\\autograd\\__init__.py:200\u001b[0m, in \u001b[0;36mbackward\u001b[1;34m(tensors, grad_tensors, retain_graph, create_graph, grad_variables, inputs)\u001b[0m\n\u001b[0;32m    195\u001b[0m     retain_graph \u001b[39m=\u001b[39m create_graph\n\u001b[0;32m    197\u001b[0m \u001b[39m# The reason we repeat same the comment below is that\u001b[39;00m\n\u001b[0;32m    198\u001b[0m \u001b[39m# some Python versions print out the first line of a multi-line function\u001b[39;00m\n\u001b[0;32m    199\u001b[0m \u001b[39m# calls in the traceback and some print out the last line\u001b[39;00m\n\u001b[1;32m--> 200\u001b[0m Variable\u001b[39m.\u001b[39;49m_execution_engine\u001b[39m.\u001b[39;49mrun_backward(  \u001b[39m# Calls into the C++ engine to run the backward pass\u001b[39;49;00m\n\u001b[0;32m    201\u001b[0m     tensors, grad_tensors_, retain_graph, create_graph, inputs,\n\u001b[0;32m    202\u001b[0m     allow_unreachable\u001b[39m=\u001b[39;49m\u001b[39mTrue\u001b[39;49;00m, accumulate_grad\u001b[39m=\u001b[39;49m\u001b[39mTrue\u001b[39;49;00m)\n",
      "\u001b[1;31mKeyboardInterrupt\u001b[0m: "
     ]
    }
   ],
   "source": [
    "model = Pretext()\n",
    "criterion = InfoNceLoss(tau = 0.05)\n",
    "optimizer = torch.optim.Adam(model.parameters(), lr = 0.0005)\n",
    "# dataset = torch.load(\"test_batch.pt\")\n",
    "# data = (dataset, dataset)\n",
    "pretext_train(model, 30, trainloader, valloader, criterion, optimizer, each = 2, state = \"LastencoderINF_2.pt\", name = \"INF\")\n",
    "# pretrain_epoch(model, trainloader, trainloader, InfoNceLoss(), torch.optim.Adam(model.parameters()))\n",
    "# perdida = preloss(model, (x1, x2), InfoNceLoss())\n",
    "# print(dataset[0].shape)"
   ]
  },
  {
   "cell_type": "code",
   "execution_count": 4,
   "metadata": {},
   "outputs": [
    {
     "name": "stdout",
     "output_type": "stream",
     "text": [
      "tensor(57.1031, device='cuda:0')\n",
      "Iter: 1/2, Loss:57.1031494140625\n",
      "tensor(57.1031, device='cuda:0')\n",
      "Iter: 2/2, Loss:57.1031494140625\n",
      "Epoch train loss = 57.1031494140625\n"
     ]
    },
    {
     "data": {
      "text/plain": [
       "(tensor(57.1031, device='cuda:0', grad_fn=<DivBackward0>),\n",
       " tensor([0., 0., 0., 0., 0., 1., 0., 0., 0., 0., 0., 0., 0., 0., 0., 0., 1., 0.,\n",
       "         0.], device='cuda:0'))"
      ]
     },
     "execution_count": 4,
     "metadata": {},
     "output_type": "execute_result"
    }
   ],
   "source": [
    "# model = Downstream()\n",
    "# dataset = torch.load(\"test_batch_2.pt\")\n",
    "# x1 = dataset[0]\n",
    "\n",
    "# y1 = torch.ones((19))\n",
    "\n",
    "# downtrain_epoch(model, ((x1, y1), (x1, y1)), criterion = nn.CrossEntropyLoss(), optimizer = torch.optim.Adam(model.parameters(Classifier)))"
   ]
  }
 ],
 "metadata": {
  "kernelspec": {
   "display_name": "neuron",
   "language": "python",
   "name": "python3"
  },
  "language_info": {
   "codemirror_mode": {
    "name": "ipython",
    "version": 3
   },
   "file_extension": ".py",
   "mimetype": "text/x-python",
   "name": "python",
   "nbconvert_exporter": "python",
   "pygments_lexer": "ipython3",
   "version": "3.11.4"
  }
 },
 "nbformat": 4,
 "nbformat_minor": 2
}
