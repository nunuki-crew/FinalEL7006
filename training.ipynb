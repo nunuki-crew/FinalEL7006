{
 "cells": [
  {
   "cell_type": "code",
   "execution_count": 1,
   "metadata": {},
   "outputs": [],
   "source": [
    "from training import *\n",
    "from models import *"
   ]
  },
  {
   "cell_type": "code",
   "execution_count": 3,
   "metadata": {},
   "outputs": [
    {
     "name": "stdout",
     "output_type": "stream",
     "text": [
      "Iter: 1/2, Loss:3.610339641571045\n",
      "Iter: 2/2, Loss:3.509127616882324\n",
      "Epoch train loss = 3.5597336292266846\n"
     ]
    },
    {
     "data": {
      "text/plain": [
       "tensor(3.5597, device='cuda:0', grad_fn=<DivBackward0>)"
      ]
     },
     "execution_count": 3,
     "metadata": {},
     "output_type": "execute_result"
    }
   ],
   "source": [
    "model = Pretext()\n",
    "dataset = torch.load(\"test_batch.pt\")\n",
    "# dataset = torch.tensor(np.array(dataset))\n",
    "# test = torch.tensor(np.array([dataset[0], dataset[1]]))\n",
    "data = (dataset, dataset)\n",
    "pretrain_epoch(model, data, InfoNceLoss(), torch.optim.Adam(model.parameters()))\n",
    "# perdida = preloss(model, (x1, x2), InfoNceLoss())\n",
    "# print(dataset[0].shape)"
   ]
  },
  {
   "cell_type": "code",
   "execution_count": 4,
   "metadata": {},
   "outputs": [
    {
     "name": "stdout",
     "output_type": "stream",
     "text": [
      "tensor(57.1031, device='cuda:0')\n",
      "Iter: 1/2, Loss:57.1031494140625\n",
      "tensor(57.1031, device='cuda:0')\n",
      "Iter: 2/2, Loss:57.1031494140625\n",
      "Epoch train loss = 57.1031494140625\n"
     ]
    },
    {
     "data": {
      "text/plain": [
       "(tensor(57.1031, device='cuda:0', grad_fn=<DivBackward0>),\n",
       " tensor([0., 0., 0., 0., 0., 1., 0., 0., 0., 0., 0., 0., 0., 0., 0., 0., 1., 0.,\n",
       "         0.], device='cuda:0'))"
      ]
     },
     "execution_count": 4,
     "metadata": {},
     "output_type": "execute_result"
    }
   ],
   "source": [
    "model = Downstream()\n",
    "dataset = torch.load(\"test_batch_2.pt\")\n",
    "x1 = dataset[0]\n",
    "\n",
    "y1 = torch.ones((19))\n",
    "\n",
    "downtrain_epoch(model, ((x1, y1), (x1, y1)), criterion = nn.CrossEntropyLoss(), optimizer = torch.optim.Adam(model.parameters(Classifier)))"
   ]
  }
 ],
 "metadata": {
  "kernelspec": {
   "display_name": "neuron",
   "language": "python",
   "name": "python3"
  },
  "language_info": {
   "codemirror_mode": {
    "name": "ipython",
    "version": 3
   },
   "file_extension": ".py",
   "mimetype": "text/x-python",
   "name": "python",
   "nbconvert_exporter": "python",
   "pygments_lexer": "ipython3",
   "version": "3.11.4"
  }
 },
 "nbformat": 4,
 "nbformat_minor": 2
}
