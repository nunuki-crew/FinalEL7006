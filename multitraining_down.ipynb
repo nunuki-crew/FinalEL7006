{
 "cells": [
  {
   "cell_type": "code",
   "execution_count": 1,
   "metadata": {},
   "outputs": [],
   "source": [
    "%%capture\n",
    "# Capture because braindecode module prints a lot :S\n",
    "from pyFiles.training import *\n",
    "from pyFiles.models import *\n",
    "from pyFiles.dataprep_down import *\n",
    "from pyFiles.dataprep2_down import *\n",
    "#\n",
    "import torch\n",
    "from torch import nn\n",
    "from torch.nn import functional as F\n",
    "#\n",
    "from pyFiles.losses import InfoNceLoss, VICReg, BarlowTwins"
   ]
  },
  {
   "cell_type": "code",
   "execution_count": 2,
   "metadata": {},
   "outputs": [],
   "source": [
    "# import os\n",
    "# os.environ[\"CUDA_VISIBLE_DEVICES\"] = \"0\" "
   ]
  },
  {
   "cell_type": "code",
   "execution_count": 3,
   "metadata": {},
   "outputs": [],
   "source": [
    "#PREP DENUEVO\n",
    "# prep(\"C:\\\\Users\\\\TheSy\\\\Desktop\\\\dataverse_files\", mode = \"per_win\", save = True, save_dir = \"data_down\")"
   ]
  },
  {
   "cell_type": "code",
   "execution_count": 4,
   "metadata": {},
   "outputs": [],
   "source": [
    "# spliter = DFSpliter(save = True, mode= \"down_win\")\n",
    "# spliter(\"down_prep_windows.csv\",\".\")"
   ]
  },
  {
   "cell_type": "code",
   "execution_count": 5,
   "metadata": {},
   "outputs": [],
   "source": [
    "transforms = Augmentations(5, False, AUGMENTATIONS)"
   ]
  },
  {
   "cell_type": "code",
   "execution_count": 6,
   "metadata": {},
   "outputs": [],
   "source": [
    "train_dataset = CustomEEGDataset(\"down_win_train_feats.csv\", root_dir = \"\", transform = transforms)\n",
    "val_dataset = CustomEEGDataset(\"down_win_val_feats.csv\", root_dir = \"\")"
   ]
  },
  {
   "cell_type": "code",
   "execution_count": 7,
   "metadata": {},
   "outputs": [],
   "source": [
    "# trainloader = DataLoader(train_dataset, batch_size = 1, shuffle = True, num_workers = 0)\n",
    "trainloader = DataLoader(train_dataset, batch_size = 350, shuffle = True, num_workers = 0)\n",
    "valloader = DataLoader(val_dataset, batch_size = 77, shuffle = False, num_workers = 0)"
   ]
  },
  {
   "cell_type": "code",
   "execution_count": 8,
   "metadata": {},
   "outputs": [
    {
     "name": "stdout",
     "output_type": "stream",
     "text": [
      "Epoch nro 1/5\n",
      "Iter: 1/5, Loss:0.6911613345146179\n",
      "Iter: 2/5, Loss:0.928406834602356\n",
      "Iter: 3/5, Loss:1.5100507736206055\n",
      "Iter: 4/5, Loss:0.6945882439613342\n",
      "Iter: 5/5, Loss:0.4950001835823059\n",
      "Epoch 1/5: Train loss = 0.8638414740562439, Val loss = 1.1302992880344391, Train acc = 0.5042613744735718, Val acc = 0.5\n",
      "Better params found in epoch = 1, saved params\n",
      "Epoch nro 2/5\n",
      "Iter: 1/5, Loss:1.1774204969406128\n",
      "Iter: 2/5, Loss:0.9615724682807922\n",
      "Iter: 3/5, Loss:0.8634244203567505\n",
      "Iter: 4/5, Loss:1.1497396230697632\n",
      "Iter: 5/5, Loss:0.7583591938018799\n",
      "Epoch 2/5: Train loss = 0.9821032404899597, Val loss = 0.7144156336784363, Train acc = 0.48721593618392944, Val acc = 0.4921875\n",
      "Better params found in epoch = 2, saved params\n",
      "Epoch nro 3/5\n",
      "Iter: 1/5, Loss:0.6916605234146118\n",
      "Iter: 2/5, Loss:0.6928603649139404\n",
      "Iter: 3/5, Loss:0.7274848818778992\n",
      "Iter: 4/5, Loss:0.7787846922874451\n",
      "Iter: 5/5, Loss:0.7400315999984741\n",
      "Epoch 3/5: Train loss = 0.7261644124984741, Val loss = 0.7547358751296998, Train acc = 0.48508524894714355, Val acc = 0.4661458432674408\n",
      "Epoch nro 4/5\n",
      "Iter: 1/5, Loss:0.6811439394950867\n",
      "Iter: 2/5, Loss:0.7332893013954163\n",
      "Iter: 3/5, Loss:0.7895434498786926\n",
      "Iter: 4/5, Loss:0.7445537447929382\n",
      "Iter: 5/5, Loss:0.6161907911300659\n",
      "Epoch 4/5: Train loss = 0.7129442453384399, Val loss = 0.7905011892318725, Train acc = 0.5355113744735718, Val acc = 0.4296875\n",
      "Epoch nro 5/5\n",
      "Iter: 1/5, Loss:0.6656630635261536\n",
      "Iter: 2/5, Loss:0.7325930595397949\n",
      "Iter: 3/5, Loss:0.7068349719047546\n",
      "Iter: 4/5, Loss:0.6461281180381775\n",
      "Iter: 5/5, Loss:0.6045188307762146\n",
      "Epoch 5/5: Train loss = 0.6711476087570191, Val loss = 0.7708987116813659, Train acc = 0.5553977489471436, Val acc = 0.3333333432674408\n"
     ]
    },
    {
     "data": {
      "text/plain": [
       "([[0.8638414740562439,\n",
       "   0.9821032404899597,\n",
       "   0.7261644124984741,\n",
       "   0.7129442453384399,\n",
       "   0.6711476087570191],\n",
       "  [1.1302992880344391,\n",
       "   0.7144156336784363,\n",
       "   0.7547358751296998,\n",
       "   0.7905011892318725,\n",
       "   0.7708987116813659]],\n",
       " [[tensor(0.5043, device='cuda:0'),\n",
       "   tensor(0.4872, device='cuda:0'),\n",
       "   tensor(0.4851, device='cuda:0'),\n",
       "   tensor(0.5355, device='cuda:0'),\n",
       "   tensor(0.5554, device='cuda:0')],\n",
       "  [tensor(0.5000, device='cuda:0'),\n",
       "   tensor(0.4922, device='cuda:0'),\n",
       "   tensor(0.4661, device='cuda:0'),\n",
       "   tensor(0.4297, device='cuda:0'),\n",
       "   tensor(0.3333, device='cuda:0')]])"
      ]
     },
     "execution_count": 8,
     "metadata": {},
     "output_type": "execute_result"
    }
   ],
   "source": [
    "model = SleepStager(n_chans = 19, pretext = False)\n",
    "enc, fc = torch.load(\"bestEncoderParamsmulti_inf.pt\")\n",
    "model.encoder.load_state_dict(enc)\n",
    "\n",
    "criterion = nn.CrossEntropyLoss()\n",
    "\n",
    "#FREEZE\n",
    "for param in model.encoder.parameters():\n",
    "  param.requires_grad = False\n",
    "\n",
    "optimizer = torch.optim.Adam(model.final.parameters(), lr = 0.001)\n",
    "downtrain(model, 5, trainloader, valloader, criterion, optimizer, state = None, name = \"multi_inf\")"
   ]
  }
 ],
 "metadata": {
  "kernelspec": {
   "display_name": "Python 3",
   "language": "python",
   "name": "python3"
  },
  "language_info": {
   "codemirror_mode": {
    "name": "ipython",
    "version": 3
   },
   "file_extension": ".py",
   "mimetype": "text/x-python",
   "name": "python",
   "nbconvert_exporter": "python",
   "pygments_lexer": "ipython3",
   "version": "3.10.11"
  }
 },
 "nbformat": 4,
 "nbformat_minor": 2
}
