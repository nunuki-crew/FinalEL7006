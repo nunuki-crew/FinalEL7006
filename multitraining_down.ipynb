{
 "cells": [
  {
   "cell_type": "code",
   "execution_count": 1,
   "metadata": {},
   "outputs": [],
   "source": [
    "%%capture\n",
    "# Capture because braindecode module prints a lot :S\n",
    "from pyFiles.training import *\n",
    "from pyFiles.models import *\n",
    "from pyFiles.dataprep_down import *\n",
    "from pyFiles.dataprep2_down import *\n",
    "#\n",
    "import torch\n",
    "from torch import nn\n",
    "from torch.nn import functional as F\n",
    "#\n",
    "from pyFiles.losses import InfoNceLoss, VICReg, BarlowTwins"
   ]
  },
  {
   "cell_type": "code",
   "execution_count": 2,
   "metadata": {},
   "outputs": [],
   "source": [
    "import os\n",
    "os.environ[\"CUDA_VISIBLE_DEVICES\"] = \"0\" "
   ]
  },
  {
   "cell_type": "code",
   "execution_count": 3,
   "metadata": {},
   "outputs": [],
   "source": [
    "#PREP DENUEVO\n",
    "# prep(\"C:\\\\Users\\\\TheSy\\\\Desktop\\\\dataverse_files\", mode = \"per_win\", save = True, save_dir = \"data_down\")"
   ]
  },
  {
   "cell_type": "code",
   "execution_count": 4,
   "metadata": {},
   "outputs": [],
   "source": [
    "# spliter = DFSpliter(save = True, mode= \"down_win\")\n",
    "# spliter(\"down_prep_windows.csv\",\".\")"
   ]
  },
  {
   "cell_type": "code",
   "execution_count": 5,
   "metadata": {},
   "outputs": [],
   "source": [
    "transforms = Augmentations(5, False, AUGMENTATIONS)"
   ]
  },
  {
   "cell_type": "code",
   "execution_count": 6,
   "metadata": {},
   "outputs": [],
   "source": [
    "train_dataset = CustomEEGDataset(\"down_win_train_feats.csv\", root_dir = \"\", transform = transforms)\n",
    "val_dataset = CustomEEGDataset(\"down_win_val_feats.csv\", root_dir = \"\")"
   ]
  },
  {
   "cell_type": "code",
   "execution_count": 7,
   "metadata": {},
   "outputs": [],
   "source": [
    "trainloader = DataLoader(train_dataset, batch_size = 100, shuffle = True, num_workers = 0)\n",
    "valloader = DataLoader(val_dataset, batch_size = 100, shuffle = False, num_workers = 0)"
   ]
  },
  {
   "cell_type": "code",
   "execution_count": 8,
   "metadata": {},
   "outputs": [
    {
     "name": "stdout",
     "output_type": "stream",
     "text": [
      "Epoch nro 1/1\n",
      "Iter: 1/15, Loss:-0.0\n",
      "Iter: 2/15, Loss:-0.0\n",
      "Iter: 3/15, Loss:-0.0\n",
      "Iter: 4/15, Loss:-0.0\n",
      "Iter: 5/15, Loss:-0.0\n",
      "Iter: 6/15, Loss:-0.0\n",
      "Iter: 7/15, Loss:-0.0\n",
      "Iter: 8/15, Loss:-0.0\n",
      "Iter: 9/15, Loss:-0.0\n",
      "Iter: 10/15, Loss:-0.0\n",
      "Iter: 11/15, Loss:-0.0\n",
      "Iter: 12/15, Loss:-0.0\n",
      "Iter: 13/15, Loss:-0.0\n",
      "Iter: 14/15, Loss:-0.0\n",
      "Iter: 15/15, Loss:-0.0\n",
      "Epoch 1/1: Train loss = 0.0, Val loss = 0.0, Train acc = 44.400001525878906, Val acc = 45.5\n",
      "Better params found in epoch = 1, saved params\n"
     ]
    },
    {
     "data": {
      "text/plain": [
       "([[0.0], [0.0]],\n",
       " [[tensor(44.4000, device='cuda:0')], [tensor(45.5000, device='cuda:0')]])"
      ]
     },
     "execution_count": 8,
     "metadata": {},
     "output_type": "execute_result"
    }
   ],
   "source": [
    "model = SleepStager(n_chans = 19, pretext = False)\n",
    "# enc, fc = torch.load(\"multis/infonce/bestEncoderParamsmulti_inf.pt\")\n",
    "# model.encoder.load_state_dict(enc)\n",
    "\n",
    "criterion = nn.CrossEntropyLoss()\n",
    "\n",
    "#FREEZE\n",
    "for param in model.encoder.parameters():\n",
    "  param.requires_grad = False\n",
    "\n",
    "optimizer = torch.optim.Adam(model.final.parameters(), lr = 0.001)\n",
    "downtrain(model, 1, trainloader, valloader, criterion, optimizer, state = None, name = \"multi_inf\")"
   ]
  }
 ],
 "metadata": {
  "kernelspec": {
   "display_name": "Python 3",
   "language": "python",
   "name": "python3"
  },
  "language_info": {
   "codemirror_mode": {
    "name": "ipython",
    "version": 3
   },
   "file_extension": ".py",
   "mimetype": "text/x-python",
   "name": "python",
   "nbconvert_exporter": "python",
   "pygments_lexer": "ipython3",
   "version": "3.10.11"
  }
 },
 "nbformat": 4,
 "nbformat_minor": 2
}
