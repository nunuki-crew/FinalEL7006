{
 "cells": [
  {
   "cell_type": "code",
   "execution_count": 3,
   "metadata": {},
   "outputs": [],
   "source": [
    "%%capture\n",
    "# Capture because braindecode module prints a lot :S\n",
    "from pyFiles.training import *\n",
    "from pyFiles.models import *\n",
    "from pyFiles.dataprep_down import *\n",
    "from pyFiles.dataprep2_down import *\n",
    "#\n",
    "import torch\n",
    "from torch import nn\n",
    "from torch.nn import functional as F\n",
    "#\n",
    "from pyFiles.losses import InfoNceLoss, VICReg, BarlowTwins"
   ]
  },
  {
   "cell_type": "code",
   "execution_count": null,
   "metadata": {},
   "outputs": [],
   "source": [
    "import os\n",
    "os.environ[\"CUDA_VISIBLE_DEVICES\"] = \"2\" "
   ]
  },
  {
   "cell_type": "code",
   "execution_count": null,
   "metadata": {},
   "outputs": [],
   "source": [
    "#PREP DENUEVO\n",
    "prep(\"dataverse_files\", mode = \"per_win\", save = True, save_dir = \"data_down\")"
   ]
  },
  {
   "cell_type": "code",
   "execution_count": null,
   "metadata": {},
   "outputs": [],
   "source": [
    "spliter = DFSpliter(save = True, mode= \"down_win\")\n",
    "spliter(\"down_prep_windows.csv\",\".\")"
   ]
  },
  {
   "cell_type": "code",
   "execution_count": null,
   "metadata": {},
   "outputs": [],
   "source": [
    "transforms = Augmentations(5, False, AUGMENTATIONS)"
   ]
  },
  {
   "cell_type": "code",
   "execution_count": null,
   "metadata": {},
   "outputs": [],
   "source": [
    "train_dataset = CustomEEGDataset(\"down_win_train_feats.csv\", root_dir = \"\", multi = False, transform = transforms)\n",
    "val_dataset = CustomEEGDataset(\"down_win_val_feats.csv\", root_dir = \"\", multi = False)"
   ]
  },
  {
   "cell_type": "code",
   "execution_count": null,
   "metadata": {},
   "outputs": [],
   "source": [
    "trainloader = DataLoader(train_dataset, batch_size = 1000, shuffle = True, num_workers = 2)\n",
    "valloader = DataLoader(val_dataset, batch_size = 1000, shuffle = False, num_workers = 2)"
   ]
  },
  {
   "cell_type": "code",
   "execution_count": null,
   "metadata": {},
   "outputs": [],
   "source": [
    "model = SleepStager(n_chans = 19, pretext = False)\n",
    "enc, fc = torch.load(\"multis/infonce/bestEncoderParamsmulti_inf.pt\")\n",
    "model.encoder.load_state_dict(enc)\n",
    "\n",
    "criterion = nn.CrossEntropyLoss()\n",
    "\n",
    "#FREEZE\n",
    "for param in model.encoder.parameters():\n",
    "  param.requires_grad = False\n",
    "\n",
    "optimizer = torch.optim.Adam(model.final.parameters(), lr = 0.001)\n",
    "downtrain(model, 50, trainloader, valloader, criterion, optimizer, state = None, name = \"multi_inf\")"
   ]
  }
 ],
 "metadata": {
  "kernelspec": {
   "display_name": "Python 3",
   "language": "python",
   "name": "python3"
  },
  "language_info": {
   "codemirror_mode": {
    "name": "ipython",
    "version": 3
   },
   "file_extension": ".py",
   "mimetype": "text/x-python",
   "name": "python",
   "nbconvert_exporter": "python",
   "pygments_lexer": "ipython3",
   "version": "3.10.11"
  }
 },
 "nbformat": 4,
 "nbformat_minor": 2
}
