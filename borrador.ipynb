{
 "cells": [
  {
   "cell_type": "code",
   "execution_count": 1,
   "metadata": {},
   "outputs": [],
   "source": [
    "import os"
   ]
  },
  {
   "cell_type": "code",
   "execution_count": 2,
   "metadata": {},
   "outputs": [],
   "source": [
    "EDFPATH = \"D:\\\\OneDrive\\\\OneDrive - Universidad de Chile\\\\Semestre X\\\\Inteligencia\\\\Proyecto\\\\dataset\\\\tuh_eeg\""
   ]
  },
  {
   "cell_type": "code",
   "execution_count": 4,
   "metadata": {},
   "outputs": [
    {
     "data": {
      "text/plain": [
       "['aaaaaaaa',\n",
       " 'aaaaaaab',\n",
       " 'aaaaaaac',\n",
       " 'aaaaaaad',\n",
       " 'aaaaaaae',\n",
       " 'aaaaaaaf',\n",
       " 'aaaaaaag',\n",
       " 'aaaaaaah',\n",
       " 'aaaaaaai',\n",
       " 'aaaaaaaj',\n",
       " 'aaaaaaak',\n",
       " 'aaaaaaal',\n",
       " 'aaaaaaam',\n",
       " 'aaaaaaan',\n",
       " 'aaaaaaao',\n",
       " 'aaaaaaap',\n",
       " 'aaaaaaaq',\n",
       " 'aaaaaaar',\n",
       " 'aaaaaaas',\n",
       " 'aaaaaaat',\n",
       " 'aaaaaaau',\n",
       " 'aaaaaaav',\n",
       " 'aaaaaaaw',\n",
       " 'aaaaaaax',\n",
       " 'aaaaaaay',\n",
       " 'aaaaaaaz',\n",
       " 'aaaaaaba',\n",
       " 'aaaaaabb',\n",
       " 'aaaaaabc',\n",
       " 'aaaaaabd',\n",
       " 'aaaaaabe',\n",
       " 'aaaaaabf',\n",
       " 'aaaaaabg',\n",
       " 'aaaaaabh',\n",
       " 'aaaaaabi',\n",
       " 'aaaaaabj',\n",
       " 'aaaaaabk',\n",
       " 'aaaaaabl',\n",
       " 'aaaaaabm',\n",
       " 'aaaaaabn',\n",
       " 'aaaaaabo',\n",
       " 'aaaaaabp',\n",
       " 'aaaaaabq',\n",
       " 'aaaaaabr',\n",
       " 'aaaaaabs',\n",
       " 'aaaaaabt',\n",
       " 'aaaaaabu',\n",
       " 'aaaaaabv',\n",
       " 'aaaaaabw',\n",
       " 'aaaaaabx',\n",
       " 'aaaaaaby',\n",
       " 'aaaaaabz',\n",
       " 'aaaaaaca',\n",
       " 'aaaaaacb',\n",
       " 'aaaaaacc',\n",
       " 'aaaaaacd',\n",
       " 'aaaaaace',\n",
       " 'aaaaaacf',\n",
       " 'aaaaaacg',\n",
       " 'aaaaaach',\n",
       " 'aaaaaaci',\n",
       " 'aaaaaacj',\n",
       " 'aaaaaack',\n",
       " 'aaaaaacl',\n",
       " 'aaaaaacm',\n",
       " 'aaaaaacn',\n",
       " 'aaaaaaco',\n",
       " 'aaaaaacp',\n",
       " 'aaaaaacq',\n",
       " 'aaaaaacr',\n",
       " 'aaaaaacs',\n",
       " 'aaaaaact',\n",
       " 'aaaaaacu',\n",
       " 'aaaaaacv',\n",
       " 'aaaaaacw',\n",
       " 'aaaaaacx',\n",
       " 'aaaaaacy',\n",
       " 'aaaaaacz',\n",
       " 'aaaaaada',\n",
       " 'aaaaaadb',\n",
       " 'aaaaaadc',\n",
       " 'aaaaaadd',\n",
       " 'aaaaaade',\n",
       " 'aaaaaadf',\n",
       " 'aaaaaadg',\n",
       " 'aaaaaadh',\n",
       " 'aaaaaadi',\n",
       " 'aaaaaadj',\n",
       " 'aaaaaadk',\n",
       " 'aaaaaadl',\n",
       " 'aaaaaadm',\n",
       " 'aaaaaadn',\n",
       " 'aaaaaado',\n",
       " 'aaaaaadp',\n",
       " 'aaaaaadq',\n",
       " 'aaaaaadr',\n",
       " 'aaaaaads',\n",
       " 'aaaaaadt',\n",
       " 'aaaaaadu',\n",
       " 'aaaaaadv']"
      ]
     },
     "execution_count": 4,
     "metadata": {},
     "output_type": "execute_result"
    }
   ],
   "source": [
    "# Read all\n",
    "os.listdir(EDFPATH)"
   ]
  },
  {
   "cell_type": "code",
   "execution_count": 5,
   "metadata": {},
   "outputs": [
    {
     "data": {
      "text/plain": [
       "'d:\\\\GitHub\\\\FinalEL7006'"
      ]
     },
     "execution_count": 5,
     "metadata": {},
     "output_type": "execute_result"
    }
   ],
   "source": [
    "os.getcwd()"
   ]
  },
  {
   "cell_type": "code",
   "execution_count": 7,
   "metadata": {},
   "outputs": [
    {
     "data": {
      "text/plain": [
       "'d:\\\\GitHub\\\\FinalEL7006\\\\data'"
      ]
     },
     "execution_count": 7,
     "metadata": {},
     "output_type": "execute_result"
    }
   ],
   "source": [
    "os.path.join(os.getcwd(), \"data\")"
   ]
  },
  {
   "cell_type": "code",
   "execution_count": 8,
   "metadata": {},
   "outputs": [
    {
     "data": {
      "text/plain": [
       "True"
      ]
     },
     "execution_count": 8,
     "metadata": {},
     "output_type": "execute_result"
    }
   ],
   "source": [
    "os.path.exists(\"main.py\")"
   ]
  },
  {
   "cell_type": "code",
   "execution_count": 9,
   "metadata": {},
   "outputs": [
    {
     "name": "stdout",
     "output_type": "stream",
     "text": [
      "The new directory is created!\n"
     ]
    }
   ],
   "source": [
    "# Create new folder if not executed before\n",
    "if not os.path.exists(\"data\"):\n",
    "    os.makedirs(\"data\")\n",
    "    print(\"Data directory created :D\")\n"
   ]
  }
 ],
 "metadata": {
  "kernelspec": {
   "display_name": "neuron",
   "language": "python",
   "name": "python3"
  },
  "language_info": {
   "codemirror_mode": {
    "name": "ipython",
    "version": 3
   },
   "file_extension": ".py",
   "mimetype": "text/x-python",
   "name": "python",
   "nbconvert_exporter": "python",
   "pygments_lexer": "ipython3",
   "version": "3.11.4"
  },
  "orig_nbformat": 4
 },
 "nbformat": 4,
 "nbformat_minor": 2
}
