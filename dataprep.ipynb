{
 "cells": [
  {
   "cell_type": "markdown",
   "metadata": {},
   "source": [
    "# Módulo de preprocesamiento \n",
    "Ammi Beltrán & Fernanda Borja"
   ]
  },
  {
   "cell_type": "markdown",
   "metadata": {},
   "source": [
    "## Importado de librerias"
   ]
  },
  {
   "cell_type": "code",
   "execution_count": null,
   "metadata": {},
   "outputs": [],
   "source": [
    "# ! pip install -U scikit-learn"
   ]
  },
  {
   "cell_type": "code",
   "execution_count": 1,
   "metadata": {},
   "outputs": [],
   "source": [
    "import os\n",
    "import mne\n",
    "import glob\n",
    "#\n",
    "import numpy as np\n",
    "import math\n",
    "import matplotlib.pyplot as plt\n",
    "%matplotlib inline\n",
    "\n",
    "import copy\n",
    "import pandas as pd\n",
    "\n",
    "# import torch "
   ]
  },
  {
   "cell_type": "markdown",
   "metadata": {},
   "source": [
    "Se crea el path de data"
   ]
  },
  {
   "cell_type": "code",
   "execution_count": null,
   "metadata": {},
   "outputs": [],
   "source": [
    "if not os.path.exists(\"data\"):\n",
    "    os.makedirs(\"data\")\n",
    "    print(\"Data directory created :D\")"
   ]
  },
  {
   "cell_type": "markdown",
   "metadata": {},
   "source": [
    "Dirección del dataset"
   ]
  },
  {
   "cell_type": "code",
   "execution_count": 2,
   "metadata": {},
   "outputs": [],
   "source": [
    "# EDFDIR = \"D:\\\\OneDrive\\\\OneDrive - Universidad de Chile\\\\Semestre X\\\\Inteligencia\\\\Proyecto\\\\dataset\\\\tuh_eeg\"\n",
    "EDFDIR = \"c:\\\\Users\\\\TheSy\\\\Desktop\\\\tuh_eeg\"\n",
    "files = glob.glob(EDFDIR + '/**/*.edf', recursive=True)"
   ]
  },
  {
   "cell_type": "markdown",
   "metadata": {},
   "source": [
    "## Preprocesamiento"
   ]
  },
  {
   "cell_type": "code",
   "execution_count": null,
   "metadata": {},
   "outputs": [],
   "source": [
    "# Usamos MNE\n",
    "# data = mne.io.read_raw_edf(files[0])\n",
    "# raw_data = data.get_data()\n",
    "# info = data.info\n",
    "# channels = data.ch_names"
   ]
  },
  {
   "cell_type": "markdown",
   "metadata": {},
   "source": [
    "### Funciones\n",
    "* Una vez funcione mover a .py y traer como librería "
   ]
  },
  {
   "cell_type": "markdown",
   "metadata": {},
   "source": [
    "Seleccion de canales"
   ]
  },
  {
   "cell_type": "code",
   "execution_count": 3,
   "metadata": {},
   "outputs": [],
   "source": [
    "def channel_select(data, channels):\n",
    "    '''\n",
    "    Selects channels from array \n",
    "    '''\n",
    "    extracted = data.pick(channels, exclude=\"bads\")\n",
    "    return extracted"
   ]
  },
  {
   "cell_type": "markdown",
   "metadata": {},
   "source": [
    "Clipeo"
   ]
  },
  {
   "cell_type": "code",
   "execution_count": 4,
   "metadata": {},
   "outputs": [],
   "source": [
    "def clip(data, channels,max= 500e-6):\n",
    "    def cliper(array):\n",
    "        for i in range(len(array)):\n",
    "            if abs(array[i]) > max:\n",
    "                array[i] = math.copysign(max,array[i])\n",
    "        return array\n",
    "    data.apply_function(cliper, picks=channels, channel_wise= True)"
   ]
  },
  {
   "cell_type": "markdown",
   "metadata": {},
   "source": [
    "Filtrado"
   ]
  },
  {
   "cell_type": "code",
   "execution_count": 5,
   "metadata": {},
   "outputs": [],
   "source": [
    "def eeg_filter(data, lfreq = 0.1, hfreq= 30):\n",
    "    '''\n",
    "    \n",
    "    '''\n",
    "    data_copy = copy.copy(data)\n",
    "    filtered = data_copy.filter(#l_freq = lfreq,\n",
    "                                l_freq = lfreq,\n",
    "                                h_freq = hfreq,\n",
    "                                method = \"iir\",\n",
    "                                )\n",
    "    return filtered"
   ]
  },
  {
   "cell_type": "markdown",
   "metadata": {},
   "source": [
    "Corte de primero minuto y de max"
   ]
  },
  {
   "cell_type": "code",
   "execution_count": 6,
   "metadata": {},
   "outputs": [],
   "source": [
    "def temporal_crop(data, tin = 60, tfin = 12*60):\n",
    "    ''' \n",
    "    Cut the channels from the second \"tin\" to \"tfin\"\n",
    "    '''\n",
    "    data_copy = copy.copy(data)\n",
    "    croped = data_copy.crop(tmin = tin, tmax = min(tfin, int(data.times[-1])))\n",
    "    return croped"
   ]
  },
  {
   "cell_type": "markdown",
   "metadata": {},
   "source": [
    "Marcado de épocas"
   ]
  },
  {
   "cell_type": "code",
   "execution_count": 7,
   "metadata": {},
   "outputs": [],
   "source": [
    "# eventos\n",
    "def get_epochs(data, channels, window = 20.0):\n",
    "    ''' \n",
    "    window es la ventana de tiempo\n",
    "    '''\n",
    "    data_copy = copy.copy(data)\n",
    "    # Create events\n",
    "    events = mne.make_fixed_length_events(data_copy, duration = window, first_samp = True)\n",
    "    # Divide accordingly\n",
    "    picks = channels\n",
    "    epochs = mne.Epochs(raw = data_copy, events = events, picks = picks, preload = True,\n",
    "                        tmin = 0., tmax = window, baseline = None,\n",
    "                        flat = dict(eeg = 1e-6))\n",
    "    \n",
    "    epochs.drop(-1,reason = \"Unfixed duration\")\n",
    "    return epochs"
   ]
  },
  {
   "cell_type": "markdown",
   "metadata": {},
   "source": [
    "Downsample"
   ]
  },
  {
   "cell_type": "code",
   "execution_count": 8,
   "metadata": {},
   "outputs": [],
   "source": [
    "def downsample(epoch, freq = 200):\n",
    "    ''' \n",
    "    Downsamples the data given by a factor\n",
    "    En nuestro caso, down corresponde a (frecuencia que queremos)/(frecuencia actual)\n",
    "    '''\n",
    "    down = epoch.resample(freq, npad = \"auto\")\n",
    "    return down"
   ]
  },
  {
   "cell_type": "markdown",
   "metadata": {},
   "source": [
    "Normalización"
   ]
  },
  {
   "cell_type": "code",
   "execution_count": 9,
   "metadata": {},
   "outputs": [],
   "source": [
    "def normalization(epochs):\n",
    "    obj = mne.decoding.Scaler(info = epochs.info, scalings='mean')\n",
    "    values = obj.fit_transform(epochs.get_data())\n",
    "    return values"
   ]
  },
  {
   "cell_type": "markdown",
   "metadata": {},
   "source": [
    "***"
   ]
  },
  {
   "cell_type": "markdown",
   "metadata": {},
   "source": [
    "Union"
   ]
  },
  {
   "cell_type": "markdown",
   "metadata": {},
   "source": [
    "## Uso de funciones"
   ]
  },
  {
   "cell_type": "markdown",
   "metadata": {},
   "source": [
    "***"
   ]
  },
  {
   "cell_type": "code",
   "execution_count": 10,
   "metadata": {},
   "outputs": [],
   "source": [
    "def EDFprep(edf, n_channels = 19, norm = True, random = True, long = False):\n",
    "    '''\n",
    "    Pipeline\n",
    "    '''\n",
    "\n",
    "    #Random channel select\n",
    "    channels = edf.ch_names\n",
    "    if random:\n",
    "        np.random.shuffle(channels)\n",
    "    channels = channels[:n_channels]\n",
    "\n",
    "    channel_data = channel_select(edf, channels)\n",
    "    clip(channel_data,channels)\n",
    "    t = temporal_crop(channel_data)\n",
    "    if(int(edf.times[-1]) < 100):\n",
    "        return np.empty(0)\n",
    "    filtered = eeg_filter(channel_data)\n",
    "    trimmed_data = temporal_crop(filtered)\n",
    "    down_data = downsample(trimmed_data)\n",
    "    epochs = get_epochs(down_data, channels)\n",
    "    if norm:\n",
    "        norm_data = normalization(epochs)\n",
    "        return norm_data\n",
    "    return epochs.get_data()\n"
   ]
  },
  {
   "cell_type": "code",
   "execution_count": null,
   "metadata": {},
   "outputs": [],
   "source": [
    "def prep(path, save = False, save_dir = \"data\", sep = \"\\\\\"):\n",
    "    ''' \n",
    "    Lectura de todos los edfs de cada paciente, guardado de ventanas temporales y csv de direcciones\n",
    "\n",
    "    Inputs:\n",
    "        -path\n",
    "    Output:\n",
    "        -dir_csv: csv con todos los datos de guardado de las ventanas de cada edf.    \n",
    "    '''\n",
    "    LEN_PAT = 8\n",
    "    SESION_LEN = 15\n",
    "    loc_df = pd.DataFrame(columns= [\"Patient\", \"Session\",\"N_Win\", \"Dir\"], )\n",
    "\n",
    "    if save:\n",
    "        if not os.path.exists(save_dir):\n",
    "            os.makedirs(save_dir)\n",
    "            print(\"Data directory created :D\")\n",
    "    \n",
    "\n",
    "    patient_path = glob.glob(EDFDIR + '/**')\n",
    "    for patient in patient_path:\n",
    "\n",
    "        #Para guardar la id en el DF\n",
    "        patient_id = patient[-LEN_PAT:]\n",
    "        \n",
    "        sessions = glob.glob(patient + '/**')\n",
    "        for session in sessions:\n",
    "\n",
    "                    \n",
    "            #Para guardar la sesion correspondiente\n",
    "            session_id = session[-SESION_LEN:-(SESION_LEN - 4)]\n",
    "\n",
    "            if save:\n",
    "                if not os.path.exists(save_dir + sep + session_id):\n",
    "                    os.makedirs(save_dir + sep + session_id)\n",
    "\n",
    "            edfs = glob.glob(session+ \"/**/*.edf\")\n",
    "            for edf in edfs:\n",
    "\n",
    "                raw = mne.io.read_raw_edf(edf,preload=True)\n",
    "                data = EDFprep(raw)\n",
    "                \n",
    "                for i in range(len(data)):\n",
    "                    sdir = f\"{save_dir}{sep}{patient_id}{sep}{session_id}{sep}w{i+1}.pt\"\n",
    "                    loc_df.loc[len(loc_df)] = [patient_id,session_id,i+1,sdir]\n",
    "\n",
    "                    if save:\n",
    "                        torch.save(data[i],f\"{save_dir}{sep}{session}{sep}{patient_id}_{session}_w{i+1}.pt\")\n",
    "\n",
    "    if save:\n",
    "        pass\n",
    "        #Guardar df como csv\n",
    "\n",
    "                \n",
    "    return loc_df\n",
    "            \n",
    "    # format [\"aaaa\",\"s001\",7,\"data/s001/aaaa_s001_w7.pt\"]\n",
    "\n",
    "   "
   ]
  },
  {
   "cell_type": "code",
   "execution_count": 34,
   "metadata": {},
   "outputs": [],
   "source": [
    "def EDFplot(edf_path, vs_prep = False, win_s = 20, f_prep = 200,n_epoch = 0 ):\n",
    "    '''\n",
    "    Plot the first window after 60s of the edf \n",
    "    '''\n",
    "    print(f\"Ploting {edf_path}\")\n",
    "    names = [\"Original\", \"Prep\"]\n",
    "    raw = mne.io.read_raw_edf(edf_path, preload= True)\n",
    "    raw_freq = int(raw.info[\"sfreq\"])\n",
    "    raw_data = raw.get_data()\n",
    "\n",
    "    first_channel = raw_data[0]\n",
    "\n",
    "    n_axes = 1 + vs_prep * 1\n",
    "\n",
    "    fig, axes = plt.subplots(nrows = n_axes, figsize=(30, 15))\n",
    "\n",
    "    n_ep = n_epoch\n",
    "    # first_win_original = first_channel[(60)*raw_freq:(60+win_s)*raw_freq]\n",
    "    first_win_original = first_channel[(60 + n_ep*win_s)*raw_freq:(60 + n_ep*win_s + win_s)*raw_freq]\n",
    "    \n",
    "    if vs_prep:\n",
    "        first_win_processed = np.squeeze(EDFprep(raw,n_channels = 1,norm = True, random = False)[n_ep])\n",
    "        axes[0].plot(first_win_original, color = \"black\", label = names[0])\n",
    "        axes[0].set_title(f\"{names[0]} edf\")\n",
    "        axes[0].set_ylabel(\"uVoltage [Vs]\")\n",
    "\n",
    "        axes[1].plot(first_win_processed, color = \"gray\", label = names[1])\n",
    "        axes[1].set_title(f\"{names[1]} edf\")\n",
    "        axes[1].set_ylabel(\"uVoltage [Vs]\")\n",
    "        axes[1].set_xlabel(\"Samples [s*Hz]\")\n",
    "    else:\n",
    "        axes.plot(first_win_original,color = \"black\", label = names[0])\n",
    "        axes.set_title(f\"{names[0]} edf\")\n",
    "        axes.set_ylabel(\"uVoltage [Vs]\")\n",
    "        axes.set_xlabel(\"Samples [s*Hz]\")\n",
    "    plt.show()\n",
    "\n",
    "    \n",
    "\n",
    "\n"
   ]
  }
 ],
 "metadata": {
  "kernelspec": {
   "display_name": "neuron",
   "language": "python",
   "name": "python3"
  },
  "language_info": {
   "codemirror_mode": {
    "name": "ipython",
    "version": 3
   },
   "file_extension": ".py",
   "mimetype": "text/x-python",
   "name": "python",
   "nbconvert_exporter": "python",
   "pygments_lexer": "ipython3",
   "version": "3.10.11"
  },
  "orig_nbformat": 4
 },
 "nbformat": 4,
 "nbformat_minor": 2
}
