{
 "cells": [
  {
   "cell_type": "markdown",
   "metadata": {},
   "source": [
    "# Módulo de preprocesamiento \n",
    "Ammi Beltrán & Fernanda Borja"
   ]
  },
  {
   "cell_type": "markdown",
   "metadata": {},
   "source": [
    "## 1"
   ]
  },
  {
   "cell_type": "code",
   "execution_count": 1,
   "metadata": {},
   "outputs": [],
   "source": [
    "import os\n",
    "import mne\n",
    "import glob\n",
    "#\n",
    "import numpy as np\n",
    "import matplotlib.pyplot as plt\n",
    "%matplotlib inline\n",
    "\n",
    "import copy"
   ]
  },
  {
   "cell_type": "code",
   "execution_count": 2,
   "metadata": {},
   "outputs": [],
   "source": [
    "if not os.path.exists(\"data\"):\n",
    "    os.makedirs(\"data\")\n",
    "    print(\"Data directory created :D\")"
   ]
  },
  {
   "cell_type": "code",
   "execution_count": 3,
   "metadata": {},
   "outputs": [],
   "source": [
    "EDFDIR = \"D:\\\\OneDrive\\\\OneDrive - Universidad de Chile\\\\Semestre X\\\\Inteligencia\\\\Proyecto\\\\dataset\\\\tuh_eeg\""
   ]
  },
  {
   "cell_type": "code",
   "execution_count": 9,
   "metadata": {},
   "outputs": [],
   "source": [
    "# EDFDIR = \"c:\\\\Users\\\\TheSy\\\\Desktop\\\\tuh_eeg\""
   ]
  },
  {
   "cell_type": "code",
   "execution_count": 4,
   "metadata": {},
   "outputs": [],
   "source": [
    "files = glob.glob(EDFDIR + '/**/*.edf', recursive=True)"
   ]
  },
  {
   "cell_type": "code",
   "execution_count": 97,
   "metadata": {},
   "outputs": [
    {
     "name": "stdout",
     "output_type": "stream",
     "text": [
      "Extracting EDF parameters from D:\\OneDrive\\OneDrive - Universidad de Chile\\Semestre X\\Inteligencia\\Proyecto\\dataset\\tuh_eeg\\aaaaaaaa\\s001_2015_12_30\\01_tcp_ar\\aaaaaaaa_s001_t000.edf...\n",
      "EDF file detected\n",
      "Setting channel info structure...\n",
      "Creating raw.info structure...\n"
     ]
    }
   ],
   "source": [
    "# Usamos MNE\n",
    "data = mne.io.read_raw_edf(files[0])\n",
    "raw_data = data.get_data()\n",
    "info = data.info\n",
    "channels = data.ch_names"
   ]
  },
  {
   "cell_type": "code",
   "execution_count": 98,
   "metadata": {},
   "outputs": [
    {
     "data": {
      "text/plain": [
       "1264"
      ]
     },
     "execution_count": 98,
     "metadata": {},
     "output_type": "execute_result"
    }
   ],
   "source": [
    "int(data.times[-1])"
   ]
  },
  {
   "cell_type": "code",
   "execution_count": 104,
   "metadata": {},
   "outputs": [
    {
     "data": {
      "text/plain": [
       "['EEG FP1-REF',\n",
       " 'EEG FP2-REF',\n",
       " 'EEG F3-REF',\n",
       " 'EEG F4-REF',\n",
       " 'EEG C3-REF',\n",
       " 'EEG C4-REF',\n",
       " 'EEG P3-REF',\n",
       " 'EEG P4-REF',\n",
       " 'EEG O1-REF',\n",
       " 'EEG O2-REF',\n",
       " 'EEG F7-REF',\n",
       " 'EEG F8-REF',\n",
       " 'EEG T3-REF',\n",
       " 'EEG T4-REF',\n",
       " 'EEG T5-REF',\n",
       " 'EEG T6-REF',\n",
       " 'EEG T1-REF',\n",
       " 'EEG T2-REF',\n",
       " 'EEG FZ-REF',\n",
       " 'EEG CZ-REF',\n",
       " 'EEG PZ-REF',\n",
       " 'EEG EKG1-REF',\n",
       " 'EEG LOC-REF',\n",
       " 'EEG ROC-REF',\n",
       " 'EMG-REF',\n",
       " 'EEG A1-REF',\n",
       " 'EEG A2-REF',\n",
       " 'RESP ABDOMEN-REF',\n",
       " 'IBI',\n",
       " 'BURSTS',\n",
       " 'SUPPR']"
      ]
     },
     "execution_count": 104,
     "metadata": {},
     "output_type": "execute_result"
    }
   ],
   "source": [
    "data.ch_names"
   ]
  },
  {
   "cell_type": "code",
   "execution_count": 99,
   "metadata": {},
   "outputs": [
    {
     "data": {
      "text/plain": [
       "['EEG FP1-REF',\n",
       " 'EEG FP2-REF',\n",
       " 'EEG F3-REF',\n",
       " 'EEG F4-REF',\n",
       " 'EEG C3-REF',\n",
       " 'EEG C4-REF',\n",
       " 'EEG P3-REF',\n",
       " 'EEG P4-REF',\n",
       " 'EEG O1-REF',\n",
       " 'EEG O2-REF',\n",
       " 'EEG F7-REF',\n",
       " 'EEG F8-REF',\n",
       " 'EEG T3-REF',\n",
       " 'EEG T4-REF',\n",
       " 'EEG T5-REF',\n",
       " 'EEG T6-REF',\n",
       " 'EEG T1-REF',\n",
       " 'EEG T2-REF',\n",
       " 'EEG FZ-REF',\n",
       " 'EEG CZ-REF',\n",
       " 'EEG PZ-REF',\n",
       " 'EEG EKG1-REF',\n",
       " 'EEG LOC-REF',\n",
       " 'EEG ROC-REF',\n",
       " 'EMG-REF',\n",
       " 'EEG A1-REF',\n",
       " 'EEG A2-REF',\n",
       " 'RESP ABDOMEN-REF',\n",
       " 'IBI',\n",
       " 'BURSTS',\n",
       " 'SUPPR']"
      ]
     },
     "execution_count": 99,
     "metadata": {},
     "output_type": "execute_result"
    }
   ],
   "source": [
    "data.info.ch_names"
   ]
  },
  {
   "cell_type": "code",
   "execution_count": 48,
   "metadata": {},
   "outputs": [
    {
     "data": {
      "text/plain": [
       "454"
      ]
     },
     "execution_count": 48,
     "metadata": {},
     "output_type": "execute_result"
    }
   ],
   "source": [
    "len(files)"
   ]
  },
  {
   "cell_type": "code",
   "execution_count": 106,
   "metadata": {},
   "outputs": [],
   "source": [
    "'''\n",
    "CHANNELS = ['EEG FP1-REF','EEG FP2-REF',\n",
    "            'EEG F7-REF','EEG F8-REF','EEG F4-REF','EEG F3-REF','EEG FZ-REF',\n",
    "            'EEG A1-REF','EEG A2-REF','EEG O1-REF','EEG O2-REF',\n",
    "            'EEG T6-REF','EEG T5-REF','EEG T4-REF','EEG T3-REF',\n",
    "            'EEG C4-REF','EEG C3-REF','EEG CZ-REF',\n",
    "            'EEG P4-REF','EEG P3-REF','EEG PZ-REF',\n",
    "            ]\n",
    "CHANNELS_LE = [\n",
    "            'EEG FP1-LE',\n",
    "            'EEG FP2-LE',\n",
    "            'EEG F7-LE',\n",
    "            'EEG F8-LE',\n",
    "            'EEG F4-LE',\n",
    "            'EEG F3-LE',\n",
    "            'EEG FZ-LE',\n",
    "            'EEG A1-LE',\n",
    "            'EEG A2-LE',\n",
    "            'EEG O1-LE',\n",
    "            'EEG O2-LE',\n",
    "            'EEG T6-LE',\n",
    "            'EEG T5-LE',\n",
    "            'EEG T4-LE',\n",
    "            'EEG T3-LE',\n",
    "            'EEG C4-LE',\n",
    "            'EEG C3-LE',\n",
    "            'EEG CZ-LE',\n",
    "            'EEG P4-LE',\n",
    "            'EEG P3-LE',\n",
    "            'EEG PZ-LE',\n",
    "            ]\n",
    "'''\n",
    "CHANNELS = [\n",
    "            'FP1',\n",
    "            'FP2',\n",
    "            'F7',\n",
    "            'F8',\n",
    "            'F4',\n",
    "            'F3',\n",
    "            'FZ',\n",
    "            'A1',\n",
    "            'A2',\n",
    "            'O1',\n",
    "            'O2',\n",
    "            'T6',\n",
    "            'T5',\n",
    "            'T4',\n",
    "            'T3',\n",
    "            'C4',\n",
    "            'C3',\n",
    "            'CZ',\n",
    "            'P4',\n",
    "            'P3',\n",
    "            'PZ',\n",
    "            ]\n",
    "def preprocessing(path):\n",
    "    ''' \n",
    "    Pipeline de procesamiento c:\n",
    "    - Canales c:\n",
    "    - Filtrado c:\n",
    "    - Downsample c:\n",
    "    - Crop temporal (primer minuto y a los 11 minutos) c: \n",
    "    - Segmentación c:\n",
    "    - Normalización c:\n",
    "    '''\n",
    "    files = glob.glob(path + '/**/*.edf', recursive = True)\n",
    "    # windows = np.empty() EVALUAR\n",
    "    windows = []\n",
    "    for i in range(0, len(files)):\n",
    "        data = mne.io.read_raw_edf(files[i], preload=True)\n",
    "        # raw_data = data.get_data()\n",
    "        # info = data.info\n",
    "        # channels = data.ch_names\n",
    "        # Pipeline\n",
    "        # \n",
    "        mapping = rename_channels(data)\n",
    "        data.rename_channels(data.info, mapping)\n",
    "        # try:\n",
    "        channel_data = channel_select(data, CHANNELS)\n",
    "        ch = CHANNELS\n",
    "        # except:\n",
    "        #     channel_data = channel_select(data, CHANNELS_LE)\n",
    "        #     ch = CHANNELS_LE\n",
    "        if(int(data.times[-1]) < 80):\n",
    "            continue\n",
    "        filtered = eeg_filter(channel_data)\n",
    "        trimmed_data = temporal_crop(filtered)\n",
    "        epochs = get_epochs(trimmed_data, ch)\n",
    "        down_data = downsample(epochs)\n",
    "        norm_data = normalization(down_data)\n",
    "        #\n",
    "        windows.append(norm_data)\n",
    "    return windows\n"
   ]
  },
  {
   "cell_type": "code",
   "execution_count": 108,
   "metadata": {},
   "outputs": [],
   "source": [
    "# Channels we want\n",
    "CHANNELS = [\n",
    "            'FP1',\n",
    "            'FP2',\n",
    "            'F7',\n",
    "            'F8',\n",
    "            'F4',\n",
    "            'F3',\n",
    "            'FZ',\n",
    "            'A1',\n",
    "            'A2',\n",
    "            'O1',\n",
    "            'O2',\n",
    "            'T6',\n",
    "            'T5',\n",
    "            'T4',\n",
    "            'T3',\n",
    "            'C4',\n",
    "            'C3',\n",
    "            'CZ',\n",
    "            'P4',\n",
    "            'P3',\n",
    "            'PZ',\n",
    "            ]\n",
    "def rename_channels(data):\n",
    "    # info = data.info\n",
    "    original = data.ch_names\n",
    "    print(original)\n",
    "    new = copy.copy(original)\n",
    "    new = [original[i] if (new[i] not in original[i]) else new[i] for i in range(0, len(new))]\n",
    "    res = {original[i]: new[i] for i in range(len(new))}\n",
    "    return res\n",
    "    "
   ]
  },
  {
   "cell_type": "code",
   "execution_count": 109,
   "metadata": {},
   "outputs": [
    {
     "name": "stdout",
     "output_type": "stream",
     "text": [
      "Extracting EDF parameters from D:\\OneDrive\\OneDrive - Universidad de Chile\\Semestre X\\Inteligencia\\Proyecto\\dataset\\tuh_eeg\\aaaaaaaa\\s001_2015_12_30\\01_tcp_ar\\aaaaaaaa_s001_t000.edf...\n",
      "EDF file detected\n",
      "Setting channel info structure...\n",
      "Creating raw.info structure...\n",
      "Reading 0 ... 323839  =      0.000 ...  1264.996 secs...\n",
      "['EEG FP1-REF', 'EEG FP2-REF', 'EEG F3-REF', 'EEG F4-REF', 'EEG C3-REF', 'EEG C4-REF', 'EEG P3-REF', 'EEG P4-REF', 'EEG O1-REF', 'EEG O2-REF', 'EEG F7-REF', 'EEG F8-REF', 'EEG T3-REF', 'EEG T4-REF', 'EEG T5-REF', 'EEG T6-REF', 'EEG T1-REF', 'EEG T2-REF', 'EEG FZ-REF', 'EEG CZ-REF', 'EEG PZ-REF', 'EEG EKG1-REF', 'EEG LOC-REF', 'EEG ROC-REF', 'EMG-REF', 'EEG A1-REF', 'EEG A2-REF', 'RESP ABDOMEN-REF', 'IBI', 'BURSTS', 'SUPPR']\n"
     ]
    },
    {
     "ename": "ValueError",
     "evalue": "Invalid channel name(s) {'ctf_head_t', 'custom_ref_applied', 'kit_system_id', 'proj_id', 'experimenter', 'nchan', 'line_freq', 'hpi_subsystem', 'acq_stim', 'chs', 'helium_info', 'hpi_results', 'sfreq', 'utc_offset', 'proj_name', 'meas_date', 'hpi_meas', 'bads', 'acq_pars', 'device_info', 'xplotter_layout', 'comps', 'dev_ctf_t', 'highpass', 'subject_info', 'meas_id', 'gantry_angle', 'dev_head_t', 'ch_names', 'projs', 'lowpass', 'dig', 'proc_history', 'events', 'description', 'file_id'} are not present in info",
     "output_type": "error",
     "traceback": [
      "\u001b[1;31m---------------------------------------------------------------------------\u001b[0m",
      "\u001b[1;31mValueError\u001b[0m                                Traceback (most recent call last)",
      "\u001b[1;32md:\\GitHub\\FinalEL7006\\dataprep.ipynb Cell 15\u001b[0m line \u001b[0;36m1\n\u001b[1;32m----> <a href='vscode-notebook-cell:/d%3A/GitHub/FinalEL7006/dataprep.ipynb#X43sZmlsZQ%3D%3D?line=0'>1</a>\u001b[0m preprocessing(EDFDIR)\n",
      "\u001b[1;32md:\\GitHub\\FinalEL7006\\dataprep.ipynb Cell 15\u001b[0m line \u001b[0;36m7\n\u001b[0;32m     <a href='vscode-notebook-cell:/d%3A/GitHub/FinalEL7006/dataprep.ipynb#X43sZmlsZQ%3D%3D?line=70'>71</a>\u001b[0m \u001b[39m# raw_data = data.get_data()\u001b[39;00m\n\u001b[0;32m     <a href='vscode-notebook-cell:/d%3A/GitHub/FinalEL7006/dataprep.ipynb#X43sZmlsZQ%3D%3D?line=71'>72</a>\u001b[0m \u001b[39m# info = data.info\u001b[39;00m\n\u001b[0;32m     <a href='vscode-notebook-cell:/d%3A/GitHub/FinalEL7006/dataprep.ipynb#X43sZmlsZQ%3D%3D?line=72'>73</a>\u001b[0m \u001b[39m# channels = data.ch_names\u001b[39;00m\n\u001b[0;32m     <a href='vscode-notebook-cell:/d%3A/GitHub/FinalEL7006/dataprep.ipynb#X43sZmlsZQ%3D%3D?line=73'>74</a>\u001b[0m \u001b[39m# Pipeline\u001b[39;00m\n\u001b[0;32m     <a href='vscode-notebook-cell:/d%3A/GitHub/FinalEL7006/dataprep.ipynb#X43sZmlsZQ%3D%3D?line=74'>75</a>\u001b[0m \u001b[39m# \u001b[39;00m\n\u001b[0;32m     <a href='vscode-notebook-cell:/d%3A/GitHub/FinalEL7006/dataprep.ipynb#X43sZmlsZQ%3D%3D?line=75'>76</a>\u001b[0m mapping \u001b[39m=\u001b[39m rename_channels(data)\n\u001b[1;32m---> <a href='vscode-notebook-cell:/d%3A/GitHub/FinalEL7006/dataprep.ipynb#X43sZmlsZQ%3D%3D?line=76'>77</a>\u001b[0m data\u001b[39m.\u001b[39mrename_channels(data\u001b[39m.\u001b[39minfo, mapping)\n\u001b[0;32m     <a href='vscode-notebook-cell:/d%3A/GitHub/FinalEL7006/dataprep.ipynb#X43sZmlsZQ%3D%3D?line=77'>78</a>\u001b[0m \u001b[39m# try:\u001b[39;00m\n\u001b[0;32m     <a href='vscode-notebook-cell:/d%3A/GitHub/FinalEL7006/dataprep.ipynb#X43sZmlsZQ%3D%3D?line=78'>79</a>\u001b[0m channel_data \u001b[39m=\u001b[39m channel_select(data, CHANNELS)\n",
      "File \u001b[1;32m<decorator-gen-37>:12\u001b[0m, in \u001b[0;36mrename_channels\u001b[1;34m(self, mapping, allow_duplicates, verbose)\u001b[0m\n",
      "File \u001b[1;32mc:\\Users\\borja\\miniconda3\\envs\\neuron\\Lib\\site-packages\\mne\\io\\meas_info.py:648\u001b[0m, in \u001b[0;36mSetChannelsMixin.rename_channels\u001b[1;34m(self, mapping, allow_duplicates, verbose)\u001b[0m\n\u001b[0;32m    645\u001b[0m info \u001b[39m=\u001b[39m \u001b[39mself\u001b[39m \u001b[39mif\u001b[39;00m \u001b[39misinstance\u001b[39m(\u001b[39mself\u001b[39m, Info) \u001b[39melse\u001b[39;00m \u001b[39mself\u001b[39m\u001b[39m.\u001b[39minfo\n\u001b[0;32m    647\u001b[0m ch_names_orig \u001b[39m=\u001b[39m \u001b[39mlist\u001b[39m(info[\u001b[39m\"\u001b[39m\u001b[39mch_names\u001b[39m\u001b[39m\"\u001b[39m])\n\u001b[1;32m--> 648\u001b[0m rename_channels(info, mapping, allow_duplicates)\n\u001b[0;32m    650\u001b[0m \u001b[39m# Update self._orig_units for Raw\u001b[39;00m\n\u001b[0;32m    651\u001b[0m \u001b[39mif\u001b[39;00m \u001b[39misinstance\u001b[39m(\u001b[39mself\u001b[39m, BaseRaw):\n\u001b[0;32m    652\u001b[0m     \u001b[39m# whatever mapping was provided, now we can just use a dict\u001b[39;00m\n",
      "File \u001b[1;32m<decorator-gen-57>:12\u001b[0m, in \u001b[0;36mrename_channels\u001b[1;34m(info, mapping, allow_duplicates, verbose)\u001b[0m\n",
      "File \u001b[1;32mc:\\Users\\borja\\miniconda3\\envs\\neuron\\Lib\\site-packages\\mne\\channels\\channels.py:857\u001b[0m, in \u001b[0;36mrename_channels\u001b[1;34m(info, mapping, allow_duplicates, verbose)\u001b[0m\n\u001b[0;32m    855\u001b[0m \u001b[39m# first check and assemble clean mappings of index and name\u001b[39;00m\n\u001b[0;32m    856\u001b[0m \u001b[39mif\u001b[39;00m \u001b[39misinstance\u001b[39m(mapping, \u001b[39mdict\u001b[39m):\n\u001b[1;32m--> 857\u001b[0m     _check_dict_keys(\n\u001b[0;32m    858\u001b[0m         mapping,\n\u001b[0;32m    859\u001b[0m         ch_names,\n\u001b[0;32m    860\u001b[0m         key_description\u001b[39m=\u001b[39m\u001b[39m\"\u001b[39m\u001b[39mchannel name(s)\u001b[39m\u001b[39m\"\u001b[39m,\n\u001b[0;32m    861\u001b[0m         valid_key_source\u001b[39m=\u001b[39m\u001b[39m\"\u001b[39m\u001b[39minfo\u001b[39m\u001b[39m\"\u001b[39m,\n\u001b[0;32m    862\u001b[0m     )\n\u001b[0;32m    863\u001b[0m     new_names \u001b[39m=\u001b[39m [\n\u001b[0;32m    864\u001b[0m         (ch_names\u001b[39m.\u001b[39mindex(ch_name), new_name) \u001b[39mfor\u001b[39;00m ch_name, new_name \u001b[39min\u001b[39;00m mapping\u001b[39m.\u001b[39mitems()\n\u001b[0;32m    865\u001b[0m     ]\n\u001b[0;32m    866\u001b[0m \u001b[39melif\u001b[39;00m callable(mapping):\n",
      "File \u001b[1;32mc:\\Users\\borja\\miniconda3\\envs\\neuron\\Lib\\site-packages\\mne\\utils\\check.py:815\u001b[0m, in \u001b[0;36m_check_dict_keys\u001b[1;34m(mapping, valid_keys, key_description, valid_key_source)\u001b[0m\n\u001b[0;32m    810\u001b[0m     _is \u001b[39m=\u001b[39m \u001b[39m\"\u001b[39m\u001b[39mare\u001b[39m\u001b[39m\"\u001b[39m \u001b[39mif\u001b[39;00m \u001b[39mlen\u001b[39m(missing) \u001b[39m>\u001b[39m \u001b[39m1\u001b[39m \u001b[39melse\u001b[39;00m \u001b[39m\"\u001b[39m\u001b[39mis\u001b[39m\u001b[39m\"\u001b[39m\n\u001b[0;32m    811\u001b[0m     msg \u001b[39m=\u001b[39m (\n\u001b[0;32m    812\u001b[0m         \u001b[39mf\u001b[39m\u001b[39m\"\u001b[39m\u001b[39mInvalid \u001b[39m\u001b[39m{\u001b[39;00mkey_description\u001b[39m}\u001b[39;00m\u001b[39m \u001b[39m\u001b[39m{\u001b[39;00mmissing\u001b[39m}\u001b[39;00m\u001b[39m \u001b[39m\u001b[39m{\u001b[39;00m_is\u001b[39m}\u001b[39;00m\u001b[39m not present in \u001b[39m\u001b[39m\"\u001b[39m\n\u001b[0;32m    813\u001b[0m         \u001b[39mf\u001b[39m\u001b[39m\"\u001b[39m\u001b[39m{\u001b[39;00mvalid_key_source\u001b[39m}\u001b[39;00m\u001b[39m\"\u001b[39m\n\u001b[0;32m    814\u001b[0m     )\n\u001b[1;32m--> 815\u001b[0m     \u001b[39mraise\u001b[39;00m \u001b[39mValueError\u001b[39;00m(msg)\n\u001b[0;32m    817\u001b[0m \u001b[39mreturn\u001b[39;00m mapping\n",
      "\u001b[1;31mValueError\u001b[0m: Invalid channel name(s) {'ctf_head_t', 'custom_ref_applied', 'kit_system_id', 'proj_id', 'experimenter', 'nchan', 'line_freq', 'hpi_subsystem', 'acq_stim', 'chs', 'helium_info', 'hpi_results', 'sfreq', 'utc_offset', 'proj_name', 'meas_date', 'hpi_meas', 'bads', 'acq_pars', 'device_info', 'xplotter_layout', 'comps', 'dev_ctf_t', 'highpass', 'subject_info', 'meas_id', 'gantry_angle', 'dev_head_t', 'ch_names', 'projs', 'lowpass', 'dig', 'proc_history', 'events', 'description', 'file_id'} are not present in info"
     ]
    }
   ],
   "source": [
    "preprocessing(EDFDIR)"
   ]
  },
  {
   "cell_type": "code",
   "execution_count": 7,
   "metadata": {},
   "outputs": [],
   "source": [
    "def channel_select(data, channels):\n",
    "    '''\n",
    "    Selects channels from array \n",
    "    '''\n",
    "    extracted = data.pick(channels)\n",
    "    return extracted"
   ]
  },
  {
   "cell_type": "code",
   "execution_count": 53,
   "metadata": {},
   "outputs": [],
   "source": [
    "def eeg_filter(data, lfreq = 0.3, hfreq= 80):\n",
    "    '''\n",
    "    \n",
    "    '''\n",
    "    data_copy = copy.copy(data)\n",
    "    filtered = data_copy.filter(l_freq = lfreq,\n",
    "                                h_freq = hfreq,\n",
    "                                method = \"iir\"\n",
    "                                )\n",
    "    return filtered"
   ]
  },
  {
   "cell_type": "code",
   "execution_count": 75,
   "metadata": {},
   "outputs": [],
   "source": [
    "def temporal_crop(data, tin = 60, tfin = 12*60):\n",
    "    ''' \n",
    "    Cut the channels from the second \"tin\" to \"tfin\"\n",
    "    '''\n",
    "    data_copy = copy.copy(data)\n",
    "    croped = data_copy.crop(tmin = tin, tmax = min(tfin, int(data.times[-1])))\n",
    "    return croped"
   ]
  },
  {
   "cell_type": "code",
   "execution_count": 13,
   "metadata": {},
   "outputs": [],
   "source": [
    "# def downsample(data, factor):\n",
    "#     ''' \n",
    "#     Downsamples the data given by a factor\n",
    "#     En nuestro caso, down corresponde a (frecuencia que queremos)/(frecuencia actual)\n",
    "#     '''\n",
    "#     data_copy = copy.copy(data)\n",
    "#     down = mne.filter.resample(data_copy, down = factor, npad = \"auto\")\n",
    "#     return down\n"
   ]
  },
  {
   "cell_type": "code",
   "execution_count": 55,
   "metadata": {},
   "outputs": [],
   "source": [
    "def downsample(epoch, freq = 200):\n",
    "    ''' \n",
    "    Downsamples the data given by a factor\n",
    "    En nuestro caso, down corresponde a (frecuencia que queremos)/(frecuencia actual)\n",
    "    '''\n",
    "    down = epoch.resample(freq, npad = \"auto\")\n",
    "    return down"
   ]
  },
  {
   "cell_type": "code",
   "execution_count": 79,
   "metadata": {},
   "outputs": [],
   "source": [
    "# eventos\n",
    "def get_epochs(data, channels, window = 20.0):\n",
    "    ''' \n",
    "    window es la ventana de tiempo\n",
    "    '''\n",
    "    data_copy = copy.copy(data)\n",
    "    # Create events\n",
    "    events = mne.make_fixed_length_events(data_copy, duration = window, first_samp = True)\n",
    "    # Divide accordingly\n",
    "    picks = channels\n",
    "    epochs = mne.Epochs(raw = data_copy, events = events, picks = picks, preload = True,\n",
    "                        tmin = 0., tmax=window, baseline = None)\n",
    "    return epochs\n"
   ]
  },
  {
   "cell_type": "code",
   "execution_count": 57,
   "metadata": {},
   "outputs": [],
   "source": [
    "def normalization(epochs):\n",
    "    obj = mne.decoding.Scaler(info = epochs.info, scalings='mean')\n",
    "    values = obj.fit_transform(epochs.get_data())\n",
    "    return values"
   ]
  },
  {
   "cell_type": "code",
   "execution_count": 23,
   "metadata": {},
   "outputs": [
    {
     "name": "stdout",
     "output_type": "stream",
     "text": [
      "Not setting metadata\n",
      "63 matching events found\n",
      "No baseline correction applied\n",
      "0 projection items activated\n",
      "Loading data for 63 events and 5121 original time points ...\n",
      "0 bad epochs dropped\n"
     ]
    }
   ],
   "source": [
    "a = get_epochs(data)"
   ]
  },
  {
   "cell_type": "code",
   "execution_count": 24,
   "metadata": {},
   "outputs": [
    {
     "data": {
      "text/html": [
       "<table class=\"table table-hover table-striped table-sm table-responsive small\">\n",
       "    <tr>\n",
       "        <th>Number of events</th>\n",
       "        <td>63</td>\n",
       "    </tr>\n",
       "    <tr>\n",
       "        <th>Events</th>\n",
       "        \n",
       "        <td>1: 63</td>\n",
       "        \n",
       "    </tr>\n",
       "    <tr>\n",
       "        <th>Time range</th>\n",
       "        <td>0.000 – 20.000 s</td>\n",
       "    </tr>\n",
       "    <tr>\n",
       "        <th>Baseline</th>\n",
       "        <td>off</td>\n",
       "    </tr>\n",
       "</table>"
      ],
      "text/plain": [
       "<Epochs |  63 events (all good), 0 – 20 s, baseline off, ~51.7 MB, data loaded,\n",
       " '1': 63>"
      ]
     },
     "execution_count": 24,
     "metadata": {},
     "output_type": "execute_result"
    }
   ],
   "source": [
    "a"
   ]
  },
  {
   "cell_type": "code",
   "execution_count": 28,
   "metadata": {},
   "outputs": [],
   "source": [
    "b = downsample(a, 200)"
   ]
  },
  {
   "cell_type": "code",
   "execution_count": 32,
   "metadata": {},
   "outputs": [
    {
     "data": {
      "text/html": [
       "<table class=\"table table-hover table-striped table-sm table-responsive small\">\n",
       "    <tr>\n",
       "        <th>Measurement date</th>\n",
       "        \n",
       "        <td>December 30, 2015  14:44:21 GMT</td>\n",
       "        \n",
       "    </tr>\n",
       "    <tr>\n",
       "        <th>Experimenter</th>\n",
       "        \n",
       "        <td>Unknown</td>\n",
       "        \n",
       "    </tr>\n",
       "        <th>Participant</th>\n",
       "        \n",
       "            \n",
       "            <td>aaaaaaaa</td>\n",
       "            \n",
       "        \n",
       "    </tr>\n",
       "    <tr>\n",
       "        <th>Digitized points</th>\n",
       "        \n",
       "        <td>Not available</td>\n",
       "        \n",
       "    </tr>\n",
       "    <tr>\n",
       "        <th>Good channels</th>\n",
       "        <td>21 EEG</td>\n",
       "    </tr>\n",
       "    <tr>\n",
       "        <th>Bad channels</th>\n",
       "        <td>None</td>\n",
       "    </tr>\n",
       "    <tr>\n",
       "        <th>EOG channels</th>\n",
       "        <td>Not available</td>\n",
       "    </tr>\n",
       "    <tr>\n",
       "        <th>ECG channels</th>\n",
       "        <td>Not available</td>\n",
       "    \n",
       "    <tr>\n",
       "        <th>Sampling frequency</th>\n",
       "        <td>200.00 Hz</td>\n",
       "    </tr>\n",
       "    \n",
       "    \n",
       "    <tr>\n",
       "        <th>Highpass</th>\n",
       "        <td>0.00 Hz</td>\n",
       "    </tr>\n",
       "    \n",
       "    \n",
       "    <tr>\n",
       "        <th>Lowpass</th>\n",
       "        <td>100.00 Hz</td>\n",
       "    </tr>\n",
       "    \n",
       "    \n",
       "</table>"
      ],
      "text/plain": [
       "<Info | 8 non-empty values\n",
       " bads: []\n",
       " ch_names: EEG FP1-REF, EEG FP2-REF, EEG F7-REF, EEG F8-REF, EEG F4-REF, ...\n",
       " chs: 21 EEG\n",
       " custom_ref_applied: False\n",
       " highpass: 0.0 Hz\n",
       " lowpass: 100.0 Hz\n",
       " meas_date: 2015-12-30 14:44:21 UTC\n",
       " nchan: 21\n",
       " projs: []\n",
       " sfreq: 200.0 Hz\n",
       " subject_info: 3 items (dict)\n",
       ">"
      ]
     },
     "execution_count": 32,
     "metadata": {},
     "output_type": "execute_result"
    }
   ],
   "source": [
    "b.info"
   ]
  },
  {
   "cell_type": "code",
   "execution_count": 10,
   "metadata": {},
   "outputs": [
    {
     "data": {
      "text/html": [
       "<table class=\"table table-hover table-striped table-sm table-responsive small\">\n",
       "    <tr>\n",
       "        <th>Measurement date</th>\n",
       "        \n",
       "        <td>December 30, 2015  14:44:21 GMT</td>\n",
       "        \n",
       "    </tr>\n",
       "    <tr>\n",
       "        <th>Experimenter</th>\n",
       "        \n",
       "        <td>Unknown</td>\n",
       "        \n",
       "    </tr>\n",
       "        <th>Participant</th>\n",
       "        \n",
       "            \n",
       "            <td>aaaaaaaa</td>\n",
       "            \n",
       "        \n",
       "    </tr>\n",
       "    <tr>\n",
       "        <th>Digitized points</th>\n",
       "        \n",
       "        <td>Not available</td>\n",
       "        \n",
       "    </tr>\n",
       "    <tr>\n",
       "        <th>Good channels</th>\n",
       "        <td>31 EEG</td>\n",
       "    </tr>\n",
       "    <tr>\n",
       "        <th>Bad channels</th>\n",
       "        <td>None</td>\n",
       "    </tr>\n",
       "    <tr>\n",
       "        <th>EOG channels</th>\n",
       "        <td>Not available</td>\n",
       "    </tr>\n",
       "    <tr>\n",
       "        <th>ECG channels</th>\n",
       "        <td>Not available</td>\n",
       "    \n",
       "    <tr>\n",
       "        <th>Sampling frequency</th>\n",
       "        <td>256.00 Hz</td>\n",
       "    </tr>\n",
       "    \n",
       "    \n",
       "    <tr>\n",
       "        <th>Highpass</th>\n",
       "        <td>0.00 Hz</td>\n",
       "    </tr>\n",
       "    \n",
       "    \n",
       "    <tr>\n",
       "        <th>Lowpass</th>\n",
       "        <td>128.00 Hz</td>\n",
       "    </tr>\n",
       "    \n",
       "    \n",
       "</table>"
      ],
      "text/plain": [
       "<Info | 8 non-empty values\n",
       " bads: []\n",
       " ch_names: EEG FP1-REF, EEG FP2-REF, EEG F3-REF, EEG F4-REF, EEG C3-REF, ...\n",
       " chs: 31 EEG\n",
       " custom_ref_applied: False\n",
       " highpass: 0.0 Hz\n",
       " lowpass: 128.0 Hz\n",
       " meas_date: 2015-12-30 14:44:21 UTC\n",
       " nchan: 31\n",
       " projs: []\n",
       " sfreq: 256.0 Hz\n",
       " subject_info: 3 items (dict)\n",
       ">"
      ]
     },
     "execution_count": 10,
     "metadata": {},
     "output_type": "execute_result"
    }
   ],
   "source": [
    "info"
   ]
  },
  {
   "cell_type": "code",
   "execution_count": 11,
   "metadata": {},
   "outputs": [
    {
     "data": {
      "text/plain": [
       "[]"
      ]
     },
     "execution_count": 11,
     "metadata": {},
     "output_type": "execute_result"
    }
   ],
   "source": [
    "# info[\"sfreq\"]\n",
    "info[\"bads\"]"
   ]
  },
  {
   "cell_type": "code",
   "execution_count": 12,
   "metadata": {},
   "outputs": [],
   "source": [
    "# plt.plot(raw_data[0][:250*60])\n",
    "# plt.show()"
   ]
  }
 ],
 "metadata": {
  "kernelspec": {
   "display_name": "neuron",
   "language": "python",
   "name": "python3"
  },
  "language_info": {
   "codemirror_mode": {
    "name": "ipython",
    "version": 3
   },
   "file_extension": ".py",
   "mimetype": "text/x-python",
   "name": "python",
   "nbconvert_exporter": "python",
   "pygments_lexer": "ipython3",
   "version": "3.11.4"
  },
  "orig_nbformat": 4
 },
 "nbformat": 4,
 "nbformat_minor": 2
}
