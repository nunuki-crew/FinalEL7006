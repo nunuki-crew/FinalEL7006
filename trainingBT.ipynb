{
 "cells": [
  {
   "cell_type": "code",
   "execution_count": 1,
   "metadata": {},
   "outputs": [],
   "source": [
    "# import os\n",
    "# os.system('export CUDA_VISIBLE_DEVICES=1')\n",
    "from pyFiles.training import *\n",
    "from pyFiles.models import *\n",
    "from pyFiles.dataprep import *\n",
    "from pyFiles.dataprep2 import *\n",
    "\n",
    "import torch\n",
    "from torch import nn\n",
    "from torch.nn import functional as F\n",
    "\n",
    "from pyFiles.losses import BarlowTwins"
   ]
  },
  {
   "cell_type": "code",
   "execution_count": 2,
   "metadata": {},
   "outputs": [],
   "source": [
    "import os\n",
    "torch.set_default_dtype(torch.float)\n",
    "# os.system('export CUDA_VISIBLE_DEVICES=2')\n",
    "\n",
    "# os.system('export CUDA_VISIBLE_DEVICES=1')\n",
    "os.environ[\"CUDA_VISIBLE_DEVICES\"] = \"0\" "
   ]
  },
  {
   "cell_type": "code",
   "execution_count": 3,
   "metadata": {},
   "outputs": [],
   "source": [
    "# prep(\"/home/el7006-23-t4/dataset/tuh_eeg\", mode = \"per_channel\", save = True, save_dir = \"/home/el7006-23-t4/data\",)\n",
    "# prep(\"D:\\\\OneDrive\\\\OneDrive - Universidad de Chile\\\\Semestre X\\\\Inteligencia\\\\Proyecto\\\\dataset\\\\tiny\", mode = \"per_channel\", save = True, save_dir = \"data\",)"
   ]
  },
  {
   "cell_type": "code",
   "execution_count": 4,
   "metadata": {},
   "outputs": [],
   "source": [
    "# spliter = DFSpliter(save = True)\n",
    "# train_df, val_df = spliter(\"prep_channels.csv\", \"\")"
   ]
  },
  {
   "cell_type": "code",
   "execution_count": 5,
   "metadata": {},
   "outputs": [],
   "source": [
    "# train_df"
   ]
  },
  {
   "cell_type": "code",
   "execution_count": 6,
   "metadata": {},
   "outputs": [],
   "source": [
    "# val_df"
   ]
  },
  {
   "cell_type": "code",
   "execution_count": 7,
   "metadata": {},
   "outputs": [],
   "source": [
    "train_dataset = CustomEEGDataset(\"train_feats.csv\", root_dir = \"\", multi = False)\n",
    "val_dataset = CustomEEGDataset(\"val_feats.csv\", root_dir = \"\", multi = False)"
   ]
  },
  {
   "cell_type": "code",
   "execution_count": 8,
   "metadata": {},
   "outputs": [],
   "source": [
    "trainloader = DataLoader(train_dataset, batch_size = 20, shuffle = True, num_workers = 0)\n",
    "valloader = DataLoader(val_dataset, batch_size = 20, shuffle = False, num_workers = 0)"
   ]
  },
  {
   "cell_type": "code",
   "execution_count": 10,
   "metadata": {},
   "outputs": [
    {
     "name": "stdout",
     "output_type": "stream",
     "text": [
      "Epoch nro 1/30\n",
      "Iter: 1/1307, Loss:9998.5\n",
      "Iter: 2/1307, Loss:9998.501953125\n",
      "Iter: 3/1307, Loss:9998.55859375\n",
      "Iter: 4/1307, Loss:9998.4375\n",
      "Iter: 5/1307, Loss:9998.3935546875\n",
      "Iter: 6/1307, Loss:9998.287109375\n",
      "Iter: 7/1307, Loss:9998.373046875\n",
      "Iter: 8/1307, Loss:9998.333984375\n",
      "Iter: 9/1307, Loss:9998.19140625\n",
      "Iter: 10/1307, Loss:9998.2548828125\n",
      "Iter: 11/1307, Loss:9998.2890625\n",
      "Iter: 12/1307, Loss:9998.3212890625\n",
      "Iter: 13/1307, Loss:9998.1025390625\n",
      "Iter: 14/1307, Loss:9998.1748046875\n",
      "Iter: 15/1307, Loss:9998.2041015625\n",
      "Iter: 16/1307, Loss:9998.1982421875\n",
      "Iter: 17/1307, Loss:9998.1220703125\n",
      "Iter: 18/1307, Loss:9998.0693359375\n",
      "Iter: 19/1307, Loss:9998.2041015625\n",
      "Iter: 20/1307, Loss:9998.3203125\n",
      "Iter: 21/1307, Loss:9998.2646484375\n",
      "Iter: 22/1307, Loss:9998.0302734375\n",
      "Iter: 23/1307, Loss:9998.267578125\n",
      "Iter: 24/1307, Loss:9998.3740234375\n",
      "Iter: 25/1307, Loss:9998.25390625\n",
      "Iter: 26/1307, Loss:9998.314453125\n",
      "Iter: 27/1307, Loss:9998.1044921875\n",
      "Iter: 28/1307, Loss:9998.2041015625\n",
      "Iter: 29/1307, Loss:9998.3720703125\n",
      "Iter: 30/1307, Loss:9998.115234375\n",
      "Validating, Val loss = 9998.15234375\n",
      "Iter: 31/1307, Loss:9998.056640625\n",
      "Iter: 32/1307, Loss:9998.1484375\n",
      "Iter: 33/1307, Loss:9998.1337890625\n",
      "Iter: 34/1307, Loss:9998.0546875\n",
      "Iter: 35/1307, Loss:9998.0439453125\n",
      "Iter: 36/1307, Loss:9998.03515625\n",
      "Iter: 37/1307, Loss:9998.0283203125\n",
      "Iter: 38/1307, Loss:9998.021484375\n"
     ]
    },
    {
     "ename": "KeyboardInterrupt",
     "evalue": "",
     "output_type": "error",
     "traceback": [
      "\u001b[1;31m---------------------------------------------------------------------------\u001b[0m",
      "\u001b[1;31mKeyboardInterrupt\u001b[0m                         Traceback (most recent call last)",
      "\u001b[1;32md:\\GitHub\\FinalEL7006\\trainingBT.ipynb Cell 10\u001b[0m line \u001b[0;36m7\n\u001b[0;32m      <a href='vscode-notebook-cell:/d%3A/GitHub/FinalEL7006/trainingBT.ipynb#X12sZmlsZQ%3D%3D?line=2'>3</a>\u001b[0m optimizer \u001b[39m=\u001b[39m torch\u001b[39m.\u001b[39moptim\u001b[39m.\u001b[39mAdam(model\u001b[39m.\u001b[39mparameters(), lr \u001b[39m=\u001b[39m \u001b[39m0.00005\u001b[39m)\n\u001b[0;32m      <a href='vscode-notebook-cell:/d%3A/GitHub/FinalEL7006/trainingBT.ipynb#X12sZmlsZQ%3D%3D?line=3'>4</a>\u001b[0m \u001b[39m# optimizer = torch.optim.SGD(model.parameters(), lr = 0.0002, momentum = 0.9, weight_decay=0.0002)\u001b[39;00m\n\u001b[0;32m      <a href='vscode-notebook-cell:/d%3A/GitHub/FinalEL7006/trainingBT.ipynb#X12sZmlsZQ%3D%3D?line=4'>5</a>\u001b[0m \u001b[39m# dataset = torch.load(\"test_batch.pt\")\u001b[39;00m\n\u001b[0;32m      <a href='vscode-notebook-cell:/d%3A/GitHub/FinalEL7006/trainingBT.ipynb#X12sZmlsZQ%3D%3D?line=5'>6</a>\u001b[0m \u001b[39m# data = (dataset, dataset)\u001b[39;00m\n\u001b[1;32m----> <a href='vscode-notebook-cell:/d%3A/GitHub/FinalEL7006/trainingBT.ipynb#X12sZmlsZQ%3D%3D?line=6'>7</a>\u001b[0m pretext_train(model, \u001b[39m30\u001b[39m, trainloader, valloader, criterion, optimizer, each \u001b[39m=\u001b[39m \u001b[39m2\u001b[39m, state \u001b[39m=\u001b[39m \u001b[39mNone\u001b[39;00m, name \u001b[39m=\u001b[39m \u001b[39m\"\u001b[39m\u001b[39mBT\u001b[39m\u001b[39m\"\u001b[39m)\n",
      "File \u001b[1;32md:\\GitHub\\FinalEL7006\\training.py:102\u001b[0m, in \u001b[0;36mpretext_train\u001b[1;34m(model, epochs, train_loader, val_loader, criterion, optimizer, each, state, name)\u001b[0m\n\u001b[0;32m    100\u001b[0m \u001b[39mprint\u001b[39m(\u001b[39mf\u001b[39m\u001b[39m\"\u001b[39m\u001b[39mEpoch nro \u001b[39m\u001b[39m{\u001b[39;00mepoch\u001b[39m \u001b[39m\u001b[39m+\u001b[39m\u001b[39m \u001b[39m\u001b[39m1\u001b[39m\u001b[39m}\u001b[39;00m\u001b[39m/\u001b[39m\u001b[39m{\u001b[39;00mepochs\u001b[39m}\u001b[39;00m\u001b[39m\"\u001b[39m)\n\u001b[0;32m    101\u001b[0m \u001b[39m# Train\u001b[39;00m\n\u001b[1;32m--> 102\u001b[0m train_loss, vloss \u001b[39m=\u001b[39m pretrain_epoch(model, train_loader, val_loader, criterion, optimizer)\n\u001b[0;32m    103\u001b[0m \u001b[39m# Val\u001b[39;00m\n\u001b[0;32m    104\u001b[0m val_loss \u001b[39m=\u001b[39m prevalidate(model, val_loader, criterion)\n",
      "File \u001b[1;32md:\\GitHub\\FinalEL7006\\training.py:64\u001b[0m, in \u001b[0;36mpretrain_epoch\u001b[1;34m(model, train_loader, val_loader, criterion, optimizer)\u001b[0m\n\u001b[0;32m     62\u001b[0m loss \u001b[39m=\u001b[39m preloss(model, batch, criterion)\n\u001b[0;32m     63\u001b[0m \u001b[39m#\u001b[39;00m\n\u001b[1;32m---> 64\u001b[0m optimizer\u001b[39m.\u001b[39mzero_grad()\n\u001b[0;32m     65\u001b[0m loss\u001b[39m.\u001b[39mbackward()\n\u001b[0;32m     66\u001b[0m optimizer\u001b[39m.\u001b[39mstep()\n",
      "File \u001b[1;32mc:\\Users\\borja\\miniconda3\\envs\\neuron\\Lib\\site-packages\\torch\\optim\\optimizer.py:435\u001b[0m, in \u001b[0;36mOptimizer.zero_grad\u001b[1;34m(self, set_to_none)\u001b[0m\n\u001b[0;32m    431\u001b[0m     param_groups \u001b[39m=\u001b[39m [\n\u001b[0;32m    432\u001b[0m         update_group(g, ng) \u001b[39mfor\u001b[39;00m g, ng \u001b[39min\u001b[39;00m \u001b[39mzip\u001b[39m(groups, saved_groups)]\n\u001b[0;32m    433\u001b[0m     \u001b[39mself\u001b[39m\u001b[39m.\u001b[39m__setstate__({\u001b[39m'\u001b[39m\u001b[39mstate\u001b[39m\u001b[39m'\u001b[39m: state, \u001b[39m'\u001b[39m\u001b[39mparam_groups\u001b[39m\u001b[39m'\u001b[39m: param_groups})\n\u001b[1;32m--> 435\u001b[0m \u001b[39mdef\u001b[39;00m \u001b[39mzero_grad\u001b[39m(\u001b[39mself\u001b[39m, set_to_none: \u001b[39mbool\u001b[39m \u001b[39m=\u001b[39m \u001b[39mTrue\u001b[39;00m):\n\u001b[0;32m    436\u001b[0m \u001b[39m    \u001b[39m\u001b[39mr\u001b[39m\u001b[39m\"\"\"Sets the gradients of all optimized :class:`torch.Tensor` s to zero.\u001b[39;00m\n\u001b[0;32m    437\u001b[0m \n\u001b[0;32m    438\u001b[0m \u001b[39m    Args:\u001b[39;00m\n\u001b[1;32m   (...)\u001b[0m\n\u001b[0;32m    448\u001b[0m \u001b[39m            the step altogether).\u001b[39;00m\n\u001b[0;32m    449\u001b[0m \u001b[39m    \"\"\"\u001b[39;00m\n\u001b[0;32m    450\u001b[0m     foreach \u001b[39m=\u001b[39m \u001b[39mself\u001b[39m\u001b[39m.\u001b[39mdefaults\u001b[39m.\u001b[39mget(\u001b[39m'\u001b[39m\u001b[39mforeach\u001b[39m\u001b[39m'\u001b[39m, \u001b[39mFalse\u001b[39;00m)\n",
      "\u001b[1;31mKeyboardInterrupt\u001b[0m: "
     ]
    }
   ],
   "source": [
    "model = Pretext_BT(out_size=10, mlp=True)\n",
    "criterion = BarlowTwins(0.005)\n",
    "optimizer = torch.optim.Adam(model.parameters(), lr = 0.00005)\n",
    "# optimizer = torch.optim.SGD(model.parameters(), lr = 0.0002, momentum = 0.9, weight_decay=0.0002)\n",
    "# dataset = torch.load(\"test_batch.pt\")\n",
    "# data = (dataset, dataset)\n",
    "pretext_train(model, 30, trainloader, valloader, criterion, optimizer, state = None, name = \"BT\")\n",
    "# pretrain_epoch(model, trainloader, trainloader, InfoNceLoss(), torch.optim.Adam(model.parameters()))\n",
    "# perdida = preloss(model, (x1, x2), InfoNceLoss())\n",
    "# print(dataset[0].shape)"
   ]
  },
  {
   "cell_type": "code",
   "execution_count": null,
   "metadata": {},
   "outputs": [],
   "source": [
    "# model = Downstream()\n",
    "# dataset = torch.load(\"test_batch_2.pt\")\n",
    "# x1 = dataset[0]\n",
    "\n",
    "# y1 = torch.ones((19))\n",
    "\n",
    "# downtrain_epoch(model, ((x1, y1), (x1, y1)), criterion = nn.CrossEntropyLoss(), optimizer = torch.optim.Adam(model.parameters(Classifier)))"
   ]
  }
 ],
 "metadata": {
  "kernelspec": {
   "display_name": "Python 3 (ipykernel)",
   "language": "python",
   "name": "python3"
  },
  "language_info": {
   "codemirror_mode": {
    "name": "ipython",
    "version": 3
   },
   "file_extension": ".py",
   "mimetype": "text/x-python",
   "name": "python",
   "nbconvert_exporter": "python",
   "pygments_lexer": "ipython3",
   "version": "3.11.4"
  }
 },
 "nbformat": 4,
 "nbformat_minor": 2
}
