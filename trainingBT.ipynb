{
 "cells": [
  {
   "cell_type": "code",
   "execution_count": 1,
   "metadata": {},
   "outputs": [],
   "source": [
    "# import os\n",
    "# os.system('export CUDA_VISIBLE_DEVICES=1')\n",
    "from training import *\n",
    "from models import *\n",
    "from dataprep import *\n",
    "from dataprep2 import *\n",
    "\n",
    "import torch\n",
    "from torch import nn\n",
    "from torch.nn import functional as F\n",
    "\n",
    "from losses import BarlowTwins"
   ]
  },
  {
   "cell_type": "code",
   "execution_count": 2,
   "metadata": {},
   "outputs": [],
   "source": [
    "import os\n",
    "torch.set_default_dtype(torch.float)\n",
    "# os.system('export CUDA_VISIBLE_DEVICES=2')\n",
    "\n",
    "# os.system('export CUDA_VISIBLE_DEVICES=1')\n",
    "os.environ[\"CUDA_VISIBLE_DEVICES\"] = \"0\" "
   ]
  },
  {
   "cell_type": "code",
   "execution_count": 3,
   "metadata": {},
   "outputs": [],
   "source": [
    "# prep(\"/home/el7006-23-t4/dataset/tuh_eeg\", mode = \"per_channel\", save = True, save_dir = \"/home/el7006-23-t4/data\",)\n",
    "# prep(\"D:\\\\OneDrive\\\\OneDrive - Universidad de Chile\\\\Semestre X\\\\Inteligencia\\\\Proyecto\\\\dataset\\\\tuh_eeg\", mode = \"per_channel\", save = True, save_dir = \"data\",)"
   ]
  },
  {
   "cell_type": "code",
   "execution_count": 4,
   "metadata": {},
   "outputs": [],
   "source": [
    "# spliter = DFSpliter(save = True)\n",
    "# train_df, val_df = spliter(\"prep_channels.csv\", \"\")"
   ]
  },
  {
   "cell_type": "code",
   "execution_count": 5,
   "metadata": {},
   "outputs": [],
   "source": [
    "# train_df"
   ]
  },
  {
   "cell_type": "code",
   "execution_count": 6,
   "metadata": {},
   "outputs": [],
   "source": [
    "# val_df"
   ]
  },
  {
   "cell_type": "code",
   "execution_count": 7,
   "metadata": {},
   "outputs": [],
   "source": [
    "train_dataset = CustomEEGDataset(\"train_feats.csv\", root_dir = \"\", multi = False)\n",
    "val_dataset = CustomEEGDataset(\"val_feats.csv\", root_dir = \"\", multi = False)"
   ]
  },
  {
   "cell_type": "code",
   "execution_count": 8,
   "metadata": {},
   "outputs": [],
   "source": [
    "trainloader = DataLoader(train_dataset, batch_size = 30, shuffle = True, num_workers = 0)\n",
    "valloader = DataLoader(val_dataset, batch_size = 30, shuffle = False, num_workers = 0)"
   ]
  },
  {
   "cell_type": "code",
   "execution_count": 9,
   "metadata": {},
   "outputs": [],
   "source": [
    "aug = Augmentations(1, multi = False, augmentations = AUGMENTATIONS)"
   ]
  },
  {
   "cell_type": "code",
   "execution_count": 10,
   "metadata": {},
   "outputs": [],
   "source": [
    "# a = torch.ones([2,5], dtype=torch.float64)\n",
    "# b = torch.tensor([[1,1,1,1,1], [1,1,1,1,1]],  dtype=torch.float64)\n",
    "# criterion(a,b)"
   ]
  },
  {
   "cell_type": "code",
   "execution_count": 11,
   "metadata": {},
   "outputs": [
    {
     "name": "stdout",
     "output_type": "stream",
     "text": [
      "Epoch nro 1/30\n",
      "torch.Size([80, 20, 1000])\n",
      "torch.Size([80, 20000])\n",
      "torch.Size([80, 20000])\n",
      "torch.Size([80, 20, 1000])\n",
      "torch.Size([80, 20000])\n",
      "torch.Size([80, 20000])\n"
     ]
    },
    {
     "ename": "OutOfMemoryError",
     "evalue": "CUDA out of memory. Tried to allocate 1.49 GiB (GPU 0; 4.00 GiB total capacity; 9.51 GiB already allocated; 0 bytes free; 10.09 GiB reserved in total by PyTorch) If reserved memory is >> allocated memory try setting max_split_size_mb to avoid fragmentation.  See documentation for Memory Management and PYTORCH_CUDA_ALLOC_CONF",
     "output_type": "error",
     "traceback": [
      "\u001b[1;31m---------------------------------------------------------------------------\u001b[0m",
      "\u001b[1;31mOutOfMemoryError\u001b[0m                          Traceback (most recent call last)",
      "\u001b[1;32md:\\GitHub\\FinalEL7006\\trainingBT.ipynb Cell 11\u001b[0m line \u001b[0;36m7\n\u001b[0;32m      <a href='vscode-notebook-cell:/d%3A/GitHub/FinalEL7006/trainingBT.ipynb#X13sZmlsZQ%3D%3D?line=3'>4</a>\u001b[0m optimizer \u001b[39m=\u001b[39m torch\u001b[39m.\u001b[39moptim\u001b[39m.\u001b[39mSGD(model\u001b[39m.\u001b[39mparameters(), lr \u001b[39m=\u001b[39m \u001b[39m0.0002\u001b[39m, momentum \u001b[39m=\u001b[39m \u001b[39m0.9\u001b[39m, weight_decay\u001b[39m=\u001b[39m\u001b[39m0.0002\u001b[39m)\n\u001b[0;32m      <a href='vscode-notebook-cell:/d%3A/GitHub/FinalEL7006/trainingBT.ipynb#X13sZmlsZQ%3D%3D?line=4'>5</a>\u001b[0m \u001b[39m# dataset = torch.load(\"test_batch.pt\")\u001b[39;00m\n\u001b[0;32m      <a href='vscode-notebook-cell:/d%3A/GitHub/FinalEL7006/trainingBT.ipynb#X13sZmlsZQ%3D%3D?line=5'>6</a>\u001b[0m \u001b[39m# data = (dataset, dataset)\u001b[39;00m\n\u001b[1;32m----> <a href='vscode-notebook-cell:/d%3A/GitHub/FinalEL7006/trainingBT.ipynb#X13sZmlsZQ%3D%3D?line=6'>7</a>\u001b[0m pretext_train(model, \u001b[39m30\u001b[39m, trainloader, valloader, criterion, optimizer, aug, each \u001b[39m=\u001b[39m \u001b[39m2\u001b[39m, state \u001b[39m=\u001b[39m \u001b[39mNone\u001b[39;00m, name \u001b[39m=\u001b[39m \u001b[39m\"\u001b[39m\u001b[39mBT\u001b[39m\u001b[39m\"\u001b[39m)\n",
      "File \u001b[1;32md:\\GitHub\\FinalEL7006\\training.py:98\u001b[0m, in \u001b[0;36mpretext_train\u001b[1;34m(model, epochs, train_loader, val_loader, criterion, optimizer, augmentation, each, state, name)\u001b[0m\n\u001b[0;32m     96\u001b[0m \u001b[39mprint\u001b[39m(\u001b[39mf\u001b[39m\u001b[39m\"\u001b[39m\u001b[39mEpoch nro \u001b[39m\u001b[39m{\u001b[39;00mepoch\u001b[39m \u001b[39m\u001b[39m+\u001b[39m\u001b[39m \u001b[39m\u001b[39m1\u001b[39m\u001b[39m}\u001b[39;00m\u001b[39m/\u001b[39m\u001b[39m{\u001b[39;00mepochs\u001b[39m}\u001b[39;00m\u001b[39m\"\u001b[39m)\n\u001b[0;32m     97\u001b[0m \u001b[39m# Train\u001b[39;00m\n\u001b[1;32m---> 98\u001b[0m train_loss, vloss \u001b[39m=\u001b[39m pretrain_epoch(model, train_loader, val_loader, criterion, optimizer, augmentation)\n\u001b[0;32m     99\u001b[0m \u001b[39m# Val\u001b[39;00m\n\u001b[0;32m    100\u001b[0m val_loss \u001b[39m=\u001b[39m prevalidate(model, val_loader, criterion, augmentation)\n",
      "File \u001b[1;32md:\\GitHub\\FinalEL7006\\training.py:62\u001b[0m, in \u001b[0;36mpretrain_epoch\u001b[1;34m(model, train_loader, val_loader, criterion, optimizer, augmentation)\u001b[0m\n\u001b[0;32m     60\u001b[0m \u001b[39m#\u001b[39;00m\n\u001b[0;32m     61\u001b[0m optimizer\u001b[39m.\u001b[39mzero_grad()\n\u001b[1;32m---> 62\u001b[0m loss\u001b[39m.\u001b[39mbackward()\n\u001b[0;32m     63\u001b[0m optimizer\u001b[39m.\u001b[39mstep()\n\u001b[0;32m     64\u001b[0m \u001b[39mprint\u001b[39m(\u001b[39mf\u001b[39m\u001b[39m\"\u001b[39m\u001b[39mIter: \u001b[39m\u001b[39m{\u001b[39;00mi\u001b[39m \u001b[39m\u001b[39m+\u001b[39m\u001b[39m \u001b[39m\u001b[39m1\u001b[39m\u001b[39m}\u001b[39;00m\u001b[39m/\u001b[39m\u001b[39m{\u001b[39;00m\u001b[39mlen\u001b[39m(train_loader)\u001b[39m}\u001b[39;00m\u001b[39m, Loss:\u001b[39m\u001b[39m{\u001b[39;00mloss\u001b[39m}\u001b[39;00m\u001b[39m\"\u001b[39m)\n",
      "File \u001b[1;32mc:\\Users\\borja\\miniconda3\\envs\\neuron\\Lib\\site-packages\\torch\\_tensor.py:487\u001b[0m, in \u001b[0;36mTensor.backward\u001b[1;34m(self, gradient, retain_graph, create_graph, inputs)\u001b[0m\n\u001b[0;32m    477\u001b[0m \u001b[39mif\u001b[39;00m has_torch_function_unary(\u001b[39mself\u001b[39m):\n\u001b[0;32m    478\u001b[0m     \u001b[39mreturn\u001b[39;00m handle_torch_function(\n\u001b[0;32m    479\u001b[0m         Tensor\u001b[39m.\u001b[39mbackward,\n\u001b[0;32m    480\u001b[0m         (\u001b[39mself\u001b[39m,),\n\u001b[1;32m   (...)\u001b[0m\n\u001b[0;32m    485\u001b[0m         inputs\u001b[39m=\u001b[39minputs,\n\u001b[0;32m    486\u001b[0m     )\n\u001b[1;32m--> 487\u001b[0m torch\u001b[39m.\u001b[39mautograd\u001b[39m.\u001b[39mbackward(\n\u001b[0;32m    488\u001b[0m     \u001b[39mself\u001b[39m, gradient, retain_graph, create_graph, inputs\u001b[39m=\u001b[39minputs\n\u001b[0;32m    489\u001b[0m )\n",
      "File \u001b[1;32mc:\\Users\\borja\\miniconda3\\envs\\neuron\\Lib\\site-packages\\torch\\autograd\\__init__.py:200\u001b[0m, in \u001b[0;36mbackward\u001b[1;34m(tensors, grad_tensors, retain_graph, create_graph, grad_variables, inputs)\u001b[0m\n\u001b[0;32m    195\u001b[0m     retain_graph \u001b[39m=\u001b[39m create_graph\n\u001b[0;32m    197\u001b[0m \u001b[39m# The reason we repeat same the comment below is that\u001b[39;00m\n\u001b[0;32m    198\u001b[0m \u001b[39m# some Python versions print out the first line of a multi-line function\u001b[39;00m\n\u001b[0;32m    199\u001b[0m \u001b[39m# calls in the traceback and some print out the last line\u001b[39;00m\n\u001b[1;32m--> 200\u001b[0m Variable\u001b[39m.\u001b[39m_execution_engine\u001b[39m.\u001b[39mrun_backward(  \u001b[39m# Calls into the C++ engine to run the backward pass\u001b[39;00m\n\u001b[0;32m    201\u001b[0m     tensors, grad_tensors_, retain_graph, create_graph, inputs,\n\u001b[0;32m    202\u001b[0m     allow_unreachable\u001b[39m=\u001b[39m\u001b[39mTrue\u001b[39;00m, accumulate_grad\u001b[39m=\u001b[39m\u001b[39mTrue\u001b[39;00m)\n",
      "\u001b[1;31mOutOfMemoryError\u001b[0m: CUDA out of memory. Tried to allocate 1.49 GiB (GPU 0; 4.00 GiB total capacity; 9.51 GiB already allocated; 0 bytes free; 10.09 GiB reserved in total by PyTorch) If reserved memory is >> allocated memory try setting max_split_size_mb to avoid fragmentation.  See documentation for Memory Management and PYTORCH_CUDA_ALLOC_CONF"
     ]
    }
   ],
   "source": [
    "model = Pretext_BT(out_size=20, mlp=True)\n",
    "criterion = BarlowTwins(0.005)\n",
    "# optimizer = torch.optim.Adam(model.parameters(), lr = 0.002)\n",
    "optimizer = torch.optim.SGD(model.parameters(), lr = 0.0002, momentum = 0.9, weight_decay=0.0002)\n",
    "# dataset = torch.load(\"test_batch.pt\")\n",
    "# data = (dataset, dataset)\n",
    "pretext_train(model, 30, trainloader, valloader, criterion, optimizer, aug, each = 2, state = None, name = \"BT\")\n",
    "# pretrain_epoch(model, trainloader, trainloader, InfoNceLoss(), torch.optim.Adam(model.parameters()))\n",
    "# perdida = preloss(model, (x1, x2), InfoNceLoss())\n",
    "# print(dataset[0].shape)"
   ]
  },
  {
   "cell_type": "code",
   "execution_count": null,
   "metadata": {},
   "outputs": [],
   "source": [
    "# model = Downstream()\n",
    "# dataset = torch.load(\"test_batch_2.pt\")\n",
    "# x1 = dataset[0]\n",
    "\n",
    "# y1 = torch.ones((19))\n",
    "\n",
    "# downtrain_epoch(model, ((x1, y1), (x1, y1)), criterion = nn.CrossEntropyLoss(), optimizer = torch.optim.Adam(model.parameters(Classifier)))"
   ]
  }
 ],
 "metadata": {
  "kernelspec": {
   "display_name": "Python 3 (ipykernel)",
   "language": "python",
   "name": "python3"
  },
  "language_info": {
   "codemirror_mode": {
    "name": "ipython",
    "version": 3
   },
   "file_extension": ".py",
   "mimetype": "text/x-python",
   "name": "python",
   "nbconvert_exporter": "python",
   "pygments_lexer": "ipython3",
   "version": "3.11.4"
  }
 },
 "nbformat": 4,
 "nbformat_minor": 2
}
